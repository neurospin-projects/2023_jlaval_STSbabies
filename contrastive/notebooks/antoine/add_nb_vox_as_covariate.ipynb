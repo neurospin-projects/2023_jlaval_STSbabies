{
 "cells": [
  {
   "cell_type": "markdown",
   "metadata": {},
   "source": [
    "### Study to highlight the relationship between the existancede of PCS, the volume of the brain and the number of voxel."
   ]
  },
  {
   "cell_type": "markdown",
   "metadata": {},
   "source": [
    "You need BrainVisa to run this code. "
   ]
  },
  {
   "cell_type": "code",
   "execution_count": 1,
   "metadata": {},
   "outputs": [],
   "source": [
    "import os\n",
    "import numpy as np\n",
    "import matplotlib.pyplot as plt\n",
    "import seaborn as sns\n",
    "import pandas as pd\n",
    "from soma import aims"
   ]
  },
  {
   "cell_type": "markdown",
   "metadata": {},
   "source": [
    "#### Load the labels for the right and the left PCS on the ACCP dataset"
   ]
  },
  {
   "cell_type": "code",
   "execution_count": null,
   "metadata": {},
   "outputs": [],
   "source": [
    "labeled_ACCP = pd.read_csv(\"/neurospin/dico/data/deep_folding/current/datasets/ACCpatterns/subjects_labels.csv\")\n",
    "labeled_ACCP = labeled_ACCP[['long_name','Left_PCS', 'Right_PCS']]\n",
    "\n",
    "def encoder(df, columns):\n",
    "    code = {'present':1,\n",
    "            'absent':0}\n",
    "    for col in columns:\n",
    "        df[col] = df[col].map(code)\n",
    "    return df\n",
    "\n",
    "encoder(labeled_ACCP,['Left_PCS', 'Right_PCS'])\n",
    "labeled_ACCP['long_name'].dtype"
   ]
  },
  {
   "cell_type": "markdown",
   "metadata": {},
   "source": [
    "#### Let's do it on both hemispheres at the same time"
   ]
  },
  {
   "cell_type": "code",
   "execution_count": null,
   "metadata": {},
   "outputs": [],
   "source": [
    "raw_skeleton_path = '/neurospin/dico/data/deep_folding/current/datasets/ACCpatterns/skeletons/raw/'\n",
    "two_mm_skeleton_path = '/neurospin/dico/data/deep_folding/current/datasets/ACCpatterns/skeletons/2mm/'\n",
    "list_path = [raw_skeleton_path,two_mm_skeleton_path]"
   ]
  },
  {
   "cell_type": "code",
   "execution_count": null,
   "metadata": {},
   "outputs": [],
   "source": [
    "vol = aims.read(f'{raw_skeleton_path}R/Rskeleton_generated_sub-inhibition16_ses-pretraining_T1w.nii.gz')\n",
    "print(vol)"
   ]
  },
  {
   "cell_type": "code",
   "execution_count": null,
   "metadata": {},
   "outputs": [],
   "source": [
    "nb_vox = vol.np\n",
    "print(nb_vox.shape)\n",
    "print(np.count_nonzero(nb_vox))"
   ]
  },
  {
   "cell_type": "code",
   "execution_count": null,
   "metadata": {},
   "outputs": [],
   "source": [
    "dic = {}\n",
    "\n",
    "for repo_path in list_path:\n",
    "    for side in ['R', 'L']:\n",
    "        nb_vox_dic = {}\n",
    "        path = f\"{repo_path}/{side}/\"\n",
    "        for file in os.listdir(path):\n",
    "            if file.endswith('.nii.gz'):\n",
    "                #print(file)\n",
    "                #print(file[20:-7]) # to get the name of the subject\n",
    "                vol = aims.read(f'{path}{file}')\n",
    "                nb_vox = vol.np\n",
    "                nb_vox_dic[file[20:-7]]= np.count_nonzero(nb_vox) # calculate the number of voxel that are not zeros\n",
    "        dic[f'nb_vox_{side}_{repo_path[-4:-1]}'] = nb_vox_dic"
   ]
  },
  {
   "cell_type": "code",
   "execution_count": null,
   "metadata": {},
   "outputs": [],
   "source": [
    "for dicki in dic:\n",
    "    df = pd.DataFrame({'long_name': list(dic[dicki].keys()), dicki: list(dic[dicki].values())})\n",
    "    labeled_ACCP  = labeled_ACCP.merge(df, on='long_name', how='inner')"
   ]
  },
  {
   "cell_type": "code",
   "execution_count": null,
   "metadata": {},
   "outputs": [],
   "source": [
    "labeled_ACCP['nb_vox_tot_raw'] = labeled_ACCP['nb_vox_R_raw'] + labeled_ACCP['nb_vox_L_raw']\n",
    "labeled_ACCP['nb_vox_tot_2mm'] = labeled_ACCP['nb_vox_R_2mm'] + labeled_ACCP['nb_vox_L_2mm']\n",
    "labeled_ACCP"
   ]
  },
  {
   "cell_type": "code",
   "execution_count": null,
   "metadata": {},
   "outputs": [],
   "source": [
    "sns.displot(labeled_ACCP, x='nb_vox_tot_raw', hue='Left_PCS', bins=30, stat=\"density\", common_norm=False)\n",
    "plt.show()"
   ]
  },
  {
   "cell_type": "code",
   "execution_count": null,
   "metadata": {},
   "outputs": [],
   "source": [
    "sns.displot(labeled_ACCP, x='nb_vox_tot_2mm', hue='Left_PCS', bins=30, stat=\"density\", common_norm=False)\n",
    "plt.show()"
   ]
  },
  {
   "cell_type": "code",
   "execution_count": null,
   "metadata": {},
   "outputs": [],
   "source": [
    "sns.displot(labeled_ACCP, x='nb_vox_tot_raw', hue='Right_PCS', bins=30, stat=\"density\", common_norm=False)\n",
    "plt.show()"
   ]
  },
  {
   "cell_type": "code",
   "execution_count": null,
   "metadata": {},
   "outputs": [],
   "source": [
    "sns.displot(labeled_ACCP, x='nb_vox_tot_2mm', hue='Right_PCS', bins=30, stat=\"density\", common_norm=False)\n",
    "plt.show()"
   ]
  }
 ],
 "metadata": {
  "kernelspec": {
   "display_name": "venv",
   "language": "python",
   "name": "python3"
  },
  "language_info": {
   "codemirror_mode": {
    "name": "ipython",
    "version": 3
   },
   "file_extension": ".py",
   "mimetype": "text/x-python",
   "name": "python",
   "nbconvert_exporter": "python",
   "pygments_lexer": "ipython3",
   "version": "3.10.12"
  }
 },
 "nbformat": 4,
 "nbformat_minor": 2
}
