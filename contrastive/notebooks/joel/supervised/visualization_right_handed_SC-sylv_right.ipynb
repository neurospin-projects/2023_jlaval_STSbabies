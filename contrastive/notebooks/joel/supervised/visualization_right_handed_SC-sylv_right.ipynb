{
 "cells": [
  {
   "cell_type": "code",
   "execution_count": 1,
   "metadata": {},
   "outputs": [],
   "source": [
    "import pandas as pd"
   ]
  },
  {
   "cell_type": "code",
   "execution_count": 2,
   "metadata": {},
   "outputs": [],
   "source": [
    "path_to_csv = \"/neurospin/dico/data/deep_folding/current/models/Champollion_V0/SC-sylv_right/13-19-08_28/hcp_custom_embeddings/isRightHanded/test_predicted_probas.csv\""
   ]
  },
  {
   "cell_type": "code",
   "execution_count": 3,
   "metadata": {},
   "outputs": [],
   "source": [
    "df = pd.read_csv(path_to_csv, index_col=0)\n",
    "df.index = df.index.astype(str)"
   ]
  },
  {
   "cell_type": "code",
   "execution_count": 4,
   "metadata": {},
   "outputs": [
    {
     "data": {
      "text/html": [
       "<div>\n",
       "<style scoped>\n",
       "    .dataframe tbody tr th:only-of-type {\n",
       "        vertical-align: middle;\n",
       "    }\n",
       "\n",
       "    .dataframe tbody tr th {\n",
       "        vertical-align: top;\n",
       "    }\n",
       "\n",
       "    .dataframe thead th {\n",
       "        text-align: right;\n",
       "    }\n",
       "</style>\n",
       "<table border=\"1\" class=\"dataframe\">\n",
       "  <thead>\n",
       "    <tr style=\"text-align: right;\">\n",
       "      <th></th>\n",
       "      <th>label</th>\n",
       "      <th>svm_0</th>\n",
       "      <th>median_pred</th>\n",
       "      <th>mean_pred</th>\n",
       "      <th>average_model</th>\n",
       "    </tr>\n",
       "    <tr>\n",
       "      <th>Subject</th>\n",
       "      <th></th>\n",
       "      <th></th>\n",
       "      <th></th>\n",
       "      <th></th>\n",
       "      <th></th>\n",
       "    </tr>\n",
       "  </thead>\n",
       "  <tbody>\n",
       "    <tr>\n",
       "      <th>100206</th>\n",
       "      <td>1</td>\n",
       "      <td>0.967745</td>\n",
       "      <td>0.967745</td>\n",
       "      <td>0.967745</td>\n",
       "      <td>0.967745</td>\n",
       "    </tr>\n",
       "    <tr>\n",
       "      <th>100307</th>\n",
       "      <td>1</td>\n",
       "      <td>0.761989</td>\n",
       "      <td>0.761989</td>\n",
       "      <td>0.761989</td>\n",
       "      <td>0.761989</td>\n",
       "    </tr>\n",
       "    <tr>\n",
       "      <th>100408</th>\n",
       "      <td>1</td>\n",
       "      <td>0.930554</td>\n",
       "      <td>0.930554</td>\n",
       "      <td>0.930554</td>\n",
       "      <td>0.930554</td>\n",
       "    </tr>\n",
       "    <tr>\n",
       "      <th>100610</th>\n",
       "      <td>1</td>\n",
       "      <td>0.935173</td>\n",
       "      <td>0.935173</td>\n",
       "      <td>0.935173</td>\n",
       "      <td>0.935173</td>\n",
       "    </tr>\n",
       "    <tr>\n",
       "      <th>101006</th>\n",
       "      <td>1</td>\n",
       "      <td>0.836948</td>\n",
       "      <td>0.836948</td>\n",
       "      <td>0.836948</td>\n",
       "      <td>0.836948</td>\n",
       "    </tr>\n",
       "  </tbody>\n",
       "</table>\n",
       "</div>"
      ],
      "text/plain": [
       "         label     svm_0  median_pred  mean_pred  average_model\n",
       "Subject                                                        \n",
       "100206       1  0.967745     0.967745   0.967745       0.967745\n",
       "100307       1  0.761989     0.761989   0.761989       0.761989\n",
       "100408       1  0.930554     0.930554   0.930554       0.930554\n",
       "100610       1  0.935173     0.935173   0.935173       0.935173\n",
       "101006       1  0.836948     0.836948   0.836948       0.836948"
      ]
     },
     "execution_count": 4,
     "metadata": {},
     "output_type": "execute_result"
    }
   ],
   "source": [
    "df.head()"
   ]
  },
  {
   "cell_type": "code",
   "execution_count": null,
   "metadata": {},
   "outputs": [],
   "source": []
  },
  {
   "cell_type": "code",
   "execution_count": null,
   "metadata": {},
   "outputs": [],
   "source": []
  }
 ],
 "metadata": {
  "kernelspec": {
   "display_name": "venv",
   "language": "python",
   "name": "python3"
  },
  "language_info": {
   "codemirror_mode": {
    "name": "ipython",
    "version": 3
   },
   "file_extension": ".py",
   "mimetype": "text/x-python",
   "name": "python",
   "nbconvert_exporter": "python",
   "pygments_lexer": "ipython3",
   "version": "3.10.12"
  }
 },
 "nbformat": 4,
 "nbformat_minor": 2
}
