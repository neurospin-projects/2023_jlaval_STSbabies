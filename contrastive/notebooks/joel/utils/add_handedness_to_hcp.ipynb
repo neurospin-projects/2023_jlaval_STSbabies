{
 "cells": [
  {
   "cell_type": "markdown",
   "metadata": {},
   "source": [
    "Adds parameter handedness and isStronglyRight to HCP"
   ]
  },
  {
   "cell_type": "markdown",
   "metadata": {},
   "source": [
    "Uses handedness parameter from UKB. See description in https://wiki.humanconnectome.org/docs/HCP-YA%20Data%20Dictionary-%20Updated%20for%20the%201200%20Subject%20Release.html\n",
    "Handedness parameter ranges from -100 to 100. -100 is strongly left handed, 100 means strongly right handed"
   ]
  },
  {
   "cell_type": "code",
   "execution_count": null,
   "metadata": {},
   "outputs": [],
   "source": [
    "import pandas as pd\n",
    "import numpy as np"
   ]
  }
 ],
 "metadata": {
  "language_info": {
   "name": "python"
  }
 },
 "nbformat": 4,
 "nbformat_minor": 2
}
