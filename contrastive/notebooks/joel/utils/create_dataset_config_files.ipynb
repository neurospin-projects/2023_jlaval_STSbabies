{
 "cells": [
  {
   "cell_type": "markdown",
   "metadata": {},
   "source": [
    "This notebook create dataset config files from reference"
   ]
  },
  {
   "cell_type": "code",
   "execution_count": 40,
   "metadata": {},
   "outputs": [],
   "source": [
    "import pandas as pd\n",
    "import os\n",
    "import glob\n",
    "import json"
   ]
  },
  {
   "cell_type": "code",
   "execution_count": 41,
   "metadata": {},
   "outputs": [
    {
     "data": {
      "text/plain": [
       "'/neurospin/dico/jchavas/Runs/70_self-supervised_two-regions/Program/2023_jlaval_STSbabies/contrastive/notebooks/joel/utils'"
      ]
     },
     "execution_count": 41,
     "metadata": {},
     "output_type": "execute_result"
    }
   ],
   "source": [
    "os.getcwd()"
   ]
  },
  {
   "cell_type": "code",
   "execution_count": 42,
   "metadata": {},
   "outputs": [],
   "source": [
    "path = f\"{os.getcwd()}/../../../configs/dataset/with_reskel_distbottom/2mm/UKB\"\n",
    "ref_file = f\"{path}/reference.yaml\"\n",
    "crop_path = \"/neurospin/dico/data/deep_folding/current/datasets/UkBioBank/crops/2mm\"\n",
    "crop_dirs = glob.glob(f\"{crop_path}/*\")\n",
    "crop_drops = [\"CINGULATE_ALL\", \"ORBITAL_ALL\", \"S.T.i.-S.O.T.lat.\", \"CINGULATE\", \"S.Or.\"]"
   ]
  },
  {
   "cell_type": "code",
   "execution_count": 43,
   "metadata": {},
   "outputs": [],
   "source": [
    "crop_dirs = [f for f in crop_dirs if not os.path.basename(f) in crop_drops]"
   ]
  },
  {
   "cell_type": "code",
   "execution_count": 44,
   "metadata": {},
   "outputs": [
    {
     "name": "stdout",
     "output_type": "stream",
     "text": [
      "/neurospin/dico/jchavas/Runs/70_self-supervised_two-regions/Program/2023_jlaval_STSbabies/contrastive/notebooks/joel/utils/../../../configs/dataset/with_reskel_distbottom/2mm/UKB/reference.yaml\n",
      "/neurospin/dico/data/deep_folding/current/datasets/UkBioBank/crops/2mm/S.F.inf.-BROCA-S.Pe.C.inf.\n",
      "/neurospin/dico/data/deep_folding/current/datasets/UkBioBank/crops/2mm/S.Po.C.\n",
      "/neurospin/dico/data/deep_folding/current/datasets/UkBioBank/crops/2mm/F.I.P.\n",
      "/neurospin/dico/data/deep_folding/current/datasets/UkBioBank/crops/2mm/S.T.s.-S.GSM.\n",
      "/neurospin/dico/data/deep_folding/current/datasets/UkBioBank/crops/2mm/CINGULATE.\n",
      "/neurospin/dico/data/deep_folding/current/datasets/UkBioBank/crops/2mm/F.C.L.p.-S.GSM.\n",
      "/neurospin/dico/data/deep_folding/current/datasets/UkBioBank/crops/2mm/S.C.-S.Po.C.\n",
      "/neurospin/dico/data/deep_folding/current/datasets/UkBioBank/crops/2mm/F.C.M.post.-S.p.C.\n",
      "/neurospin/dico/data/deep_folding/current/datasets/UkBioBank/crops/2mm/S.F.int.-F.C.M.ant.\n",
      "/neurospin/dico/data/deep_folding/current/datasets/UkBioBank/crops/2mm/S.Pe.C.\n",
      "/neurospin/dico/data/deep_folding/current/datasets/UkBioBank/crops/2mm/Sc.Cal.-S.Li.\n",
      "/neurospin/dico/data/deep_folding/current/datasets/UkBioBank/crops/2mm/S.T.s.\n",
      "/neurospin/dico/data/deep_folding/current/datasets/UkBioBank/crops/2mm/ORBITAL\n",
      "/neurospin/dico/data/deep_folding/current/datasets/UkBioBank/crops/2mm/S.C.-sylv.\n",
      "/neurospin/dico/data/deep_folding/current/datasets/UkBioBank/crops/2mm/S.C.-S.Pe.C.\n",
      "/neurospin/dico/data/deep_folding/current/datasets/UkBioBank/crops/2mm/OCCIPITAL\n"
     ]
    }
   ],
   "source": [
    "print(ref_file)\n",
    "print('\\n'.join(crop_dirs))"
   ]
  },
  {
   "cell_type": "code",
   "execution_count": 45,
   "metadata": {},
   "outputs": [
    {
     "name": "stdout",
     "output_type": "stream",
     "text": [
      "# @package dataset.REPLACE_DATASET\n",
      "dataset_name: REPLACE_DATASET\n",
      "pickle_normal: ${dataset_folder}/UkBioBank/crops/2mm/REPLACE_CROP_NAME/mask/REPLACE_SIDEskeleton.pkl\n",
      "numpy_all: ${dataset_folder}/UkBioBank/crops/2mm/REPLACE_CROP_NAME/mask/REPLACE_SIDEskeleton.npy\n",
      "subjects_all: ${dataset_folder}/UkBioBank/crops/2mm/REPLACE_CROP_NAME/mask/REPLACE_SIDEskeleton_subject.csv\n",
      "crop_dir: ${dataset_folder}/UkBioBank/crops/2mm/REPLACE_CROP_NAME/mask/REPLACE_SIDEcrops\n",
      "foldlabel_dir: ${dataset_folder}/UkBioBank/crops/2mm/REPLACE_CROP_NAME/mask/REPLACE_SIDElabels\n",
      "foldlabel_all: ${dataset_folder}/UkBioBank/crops/2mm/REPLACE_CROP_NAME/mask/REPLACE_SIDElabel.npy\n",
      "subjects_foldlabel_all: ${dataset_folder}/UkBioBank/crops/2mm/REPLACE_CROP_NAME/mask/REPLACE_SIDElabel_subject.csv\n",
      "distbottom_dir: ${dataset_folder}/UkBioBank/crops/2mm/REPLACE_CROP_NAME/mask/REPLACE_SIDEdistbottom\n",
      "distbottom_all: ${dataset_folder}/UkBioBank/crops/2mm/REPLACE_CROP_NAME/mask/REPLACE_SIDEdistbottom.npy\n",
      "subjects_distbottom_all: ${dataset_folder}/UkBioBank/crops/2mm/REPLACE_CROP_NAME/mask/REPLACE_SIDEdistbottom_subject.csv\n",
      "crop_file_suffix: _cropped_skeleton.nii.gz\n",
      "pickle_benchmark: \n",
      "train_val_csv_file: ${dataset_folder}/UkBioBank/subjects_full.csv\n",
      "subject_labels_file: ${dataset_folder}/UkBioBank/participants.csv\n",
      "subject_column_name: 'participant_id'\n",
      "input_size: (1, REPLACE_SIZEX, REPLACE_SIZEY, REPLACE_SIZEZ)\n"
     ]
    }
   ],
   "source": [
    "# Read in the reference file\n",
    "with open(ref_file, 'r') as file:\n",
    "  ref = file.read()\n",
    "\n",
    "print(ref)"
   ]
  },
  {
   "cell_type": "code",
   "execution_count": 57,
   "metadata": {},
   "outputs": [],
   "source": [
    "\n",
    "def replace_reference_yaml(crop_dir, side, ref):\n",
    "  \"\"\"For each crop name, it builds the yaml from the reference yaml\"\"\"\n",
    "  crop_name = os.path.basename(crop_dir)\n",
    "  dataset_name = crop_name.replace('.', '')\n",
    "  mask_file = f\"{crop_dir}/mask/{side}mask_cropped.nii.gz.minf\"\n",
    "  with open(mask_file, 'r') as file:\n",
    "    mask = file.read()\n",
    "  mask = mask.replace(\"attributes = \", \"\")\n",
    "  mask = mask.replace(\"\\'\", \"\\\"\")\n",
    "  # print(mask)\n",
    "  # mask_json = json.loads(mask)\n",
    "  # print(mask_json)\n",
    "  side = 'L'\n",
    "  filedata = ref.replace('REPLACE_CROP_NAME', crop_name)\n",
    "  filedata = filedata.replace('REPLACE_DATASET', dataset_name)\n",
    "  filedata = filedata.replace('REPLACE_SIDE', side)\n",
    "  filedata = filedata.replace('REPLACE_SIZEX', str(mask_json['sizeX']))\n",
    "  filedata = filedata.replace('REPLACE_SIZEY', str(mask_json['sizeY']))\n",
    "  filedata = filedata.replace('REPLACE_SIZEZ', str(mask_json['sizeZ']))\n",
    "\n",
    "  result_file = f\"{path}/{dataset_name}\"\n",
    "\n",
    "  return filedata, result_file"
   ]
  },
  {
   "cell_type": "code",
   "execution_count": 58,
   "metadata": {},
   "outputs": [
    {
     "name": "stdout",
     "output_type": "stream",
     "text": [
      "# @package dataset.SFinf-BROCA-SPeCinf\n",
      "dataset_name: SFinf-BROCA-SPeCinf\n",
      "pickle_normal: ${dataset_folder}/UkBioBank/crops/2mm/S.F.inf.-BROCA-S.Pe.C.inf./mask/Lskeleton.pkl\n",
      "numpy_all: ${dataset_folder}/UkBioBank/crops/2mm/S.F.inf.-BROCA-S.Pe.C.inf./mask/Lskeleton.npy\n",
      "subjects_all: ${dataset_folder}/UkBioBank/crops/2mm/S.F.inf.-BROCA-S.Pe.C.inf./mask/Lskeleton_subject.csv\n",
      "crop_dir: ${dataset_folder}/UkBioBank/crops/2mm/S.F.inf.-BROCA-S.Pe.C.inf./mask/Lcrops\n",
      "foldlabel_dir: ${dataset_folder}/UkBioBank/crops/2mm/S.F.inf.-BROCA-S.Pe.C.inf./mask/Llabels\n",
      "foldlabel_all: ${dataset_folder}/UkBioBank/crops/2mm/S.F.inf.-BROCA-S.Pe.C.inf./mask/Llabel.npy\n",
      "subjects_foldlabel_all: ${dataset_folder}/UkBioBank/crops/2mm/S.F.inf.-BROCA-S.Pe.C.inf./mask/Llabel_subject.csv\n",
      "distbottom_dir: ${dataset_folder}/UkBioBank/crops/2mm/S.F.inf.-BROCA-S.Pe.C.inf./mask/Ldistbottom\n",
      "distbottom_all: ${dataset_folder}/UkBioBank/crops/2mm/S.F.inf.-BROCA-S.Pe.C.inf./mask/Ldistbottom.npy\n",
      "subjects_distbottom_all: ${dataset_folder}/UkBioBank/crops/2mm/S.F.inf.-BROCA-S.Pe.C.inf./mask/Ldistbottom_subject.csv\n",
      "crop_file_suffix: _cropped_skeleton.nii.gz\n",
      "pickle_benchmark: \n",
      "train_val_csv_file: ${dataset_folder}/UkBioBank/subjects_full.csv\n",
      "subject_labels_file: ${dataset_folder}/UkBioBank/participants.csv\n",
      "subject_column_name: 'participant_id'\n",
      "input_size: (1, 25, 41, 44)\n"
     ]
    }
   ],
   "source": [
    "# Replace the target string\n",
    "for crop_dir in crop_dirs:\n",
    "    for side in ['L', 'R']:\n",
    "        filedata, result_file = replace_reference_yaml(crop_dir, side, ref)\n",
    "        "
   ]
  },
  {
   "cell_type": "code",
   "execution_count": 47,
   "metadata": {},
   "outputs": [],
   "source": [
    "# # Write the file out again\n",
    "# with open('file.txt', 'w') as file:\n",
    "#   file.write(filedata)"
   ]
  }
 ],
 "metadata": {
  "kernelspec": {
   "display_name": "venv",
   "language": "python",
   "name": "python3"
  },
  "language_info": {
   "codemirror_mode": {
    "name": "ipython",
    "version": 3
   },
   "file_extension": ".py",
   "mimetype": "text/x-python",
   "name": "python",
   "nbconvert_exporter": "python",
   "pygments_lexer": "ipython3",
   "version": "3.10.12"
  }
 },
 "nbformat": 4,
 "nbformat_minor": 2
}
