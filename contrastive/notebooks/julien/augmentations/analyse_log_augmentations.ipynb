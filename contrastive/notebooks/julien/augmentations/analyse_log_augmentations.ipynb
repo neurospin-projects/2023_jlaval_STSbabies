{
 "cells": [
  {
   "cell_type": "code",
   "execution_count": 26,
   "metadata": {},
   "outputs": [],
   "source": [
    "import pandas as pd\n",
    "import numpy as np\n",
    "import os\n",
    "import matplotlib.pyplot as plt"
   ]
  },
  {
   "cell_type": "code",
   "execution_count": 47,
   "metadata": {},
   "outputs": [],
   "source": [
    "#log_dir = '/neurospin/dico/jlaval/Output/2024-10-15/15-35-05_117/log_output.log'\n",
    "#log_dir = '/neurospin/dico/jlaval/Output/2024-10-15/16-03-47_195/log_output.log'\n",
    "log_dir = '/neurospin/dico/jlaval/Output/2024-10-15/16-15-25_60/log_output.log'"
   ]
  },
  {
   "cell_type": "code",
   "execution_count": 48,
   "metadata": {},
   "outputs": [
    {
     "name": "stdout",
     "output_type": "stream",
     "text": [
      "                              cutout  nb_vx  nb_vx_without_bottoms  \\\n",
      "0       INFO:augmentations.py: False  532.0                  405.0   \n",
      "1       INFO:augmentations.py: False  602.0                  496.0   \n",
      "2        INFO:augmentations.py: True  597.0                  471.0   \n",
      "3        INFO:augmentations.py: True  664.0                  540.0   \n",
      "4        INFO:augmentations.py: True  531.0                  448.0   \n",
      "...                              ...    ...                    ...   \n",
      "8188     INFO:augmentations.py: True  577.0                  472.0   \n",
      "8189     INFO:augmentations.py: True  663.0                  540.0   \n",
      "8190     INFO:augmentations.py: True  663.0                  540.0   \n",
      "8191    INFO:augmentations.py: False  720.0                  565.0   \n",
      "8192  INFO:train.py: Fitting is done    NaN                    NaN   \n",
      "\n",
      "      nb_vx_after_without_bottoms  \n",
      "0                           249.0  \n",
      "1                           169.0  \n",
      "2                           419.0  \n",
      "3                           474.0  \n",
      "4                           359.0  \n",
      "...                           ...  \n",
      "8188                        435.0  \n",
      "8189                        440.0  \n",
      "8190                        282.0  \n",
      "8191                        124.0  \n",
      "8192                          NaN  \n",
      "\n",
      "[8193 rows x 4 columns]\n",
      "                         cutout  nb_vx  nb_vx_without_bottoms  \\\n",
      "0  INFO:augmentations.py: False  532.0                  405.0   \n",
      "1  INFO:augmentations.py: False  602.0                  496.0   \n",
      "2   INFO:augmentations.py: True  597.0                  471.0   \n",
      "3   INFO:augmentations.py: True  664.0                  540.0   \n",
      "4   INFO:augmentations.py: True  531.0                  448.0   \n",
      "\n",
      "   nb_vx_after_without_bottoms  \n",
      "0                        249.0  \n",
      "1                        169.0  \n",
      "2                        419.0  \n",
      "3                        474.0  \n",
      "4                        359.0  \n"
     ]
    }
   ],
   "source": [
    "data = pd.read_csv(log_dir, delimiter = \",\", header = None, skiprows=9)\n",
    "data.columns=['cutout', 'nb_vx', 'nb_vx_without_bottoms', 'nb_vx_after_without_bottoms']\n",
    "print(data)\n",
    "print(data.head())"
   ]
  },
  {
   "cell_type": "code",
   "execution_count": 49,
   "metadata": {},
   "outputs": [],
   "source": [
    "l = data['cutout'].tolist()\n",
    "data['cutout'] = [elem[-5:] for elem in l]"
   ]
  },
  {
   "cell_type": "code",
   "execution_count": 50,
   "metadata": {},
   "outputs": [
    {
     "data": {
      "text/plain": [
       "(614.7067908801176, 497.060554057367, 412.756557979897)"
      ]
     },
     "execution_count": 50,
     "metadata": {},
     "output_type": "execute_result"
    }
   ],
   "source": [
    "# for cutout\n",
    "data_cutout = data.loc[data['cutout']==' True']\n",
    "np.mean(data_cutout['nb_vx']), np.mean(data_cutout['nb_vx_without_bottoms']), np.mean(data_cutout['nb_vx_after_without_bottoms'])"
   ]
  },
  {
   "cell_type": "code",
   "execution_count": 51,
   "metadata": {},
   "outputs": [
    {
     "data": {
      "text/plain": [
       "(615.0568927789934, 497.2771699489424, 174.15998054947727)"
      ]
     },
     "execution_count": 51,
     "metadata": {},
     "output_type": "execute_result"
    }
   ],
   "source": [
    "# for cutin\n",
    "data_cutin = data.loc[data['cutout']=='False']\n",
    "np.mean(data_cutin['nb_vx']), np.mean(data_cutin['nb_vx_without_bottoms']), np.mean(data_cutin['nb_vx_after_without_bottoms'])"
   ]
  },
  {
   "cell_type": "code",
   "execution_count": 52,
   "metadata": {},
   "outputs": [
    {
     "data": {
      "image/png": "[encoded data removed]",
      "text/plain": [
       "<Figure size 432x288 with 1 Axes>"
      ]
     },
     "metadata": {
      "needs_background": "light"
     },
     "output_type": "display_data"
    }
   ],
   "source": [
    "## plot the distributions of the proportion of non 30 vx removed\n",
    "# cutout\n",
    "l_before = data_cutout['nb_vx_without_bottoms'].tolist()\n",
    "l_after = data_cutout['nb_vx_after_without_bottoms'].tolist()\n",
    "removed_cutout = [(before - after) / before for before, after in zip(l_before, l_after)]\n",
    "plt.hist(removed_cutout)\n",
    "plt.title(f\"mean : {np.mean(removed_cutout):.3f}, std : {np.std(removed_cutout):.3f}\")\n",
    "plt.show()"
   ]
  },
  {
   "cell_type": "code",
   "execution_count": 53,
   "metadata": {},
   "outputs": [
    {
     "data": {
      "image/png": "[encoded data removed]",
      "text/plain": [
       "<Figure size 432x288 with 1 Axes>"
      ]
     },
     "metadata": {
      "needs_background": "light"
     },
     "output_type": "display_data"
    }
   ],
   "source": [
    "# cutin\n",
    "l_before = data_cutin['nb_vx_without_bottoms'].tolist()\n",
    "l_after = data_cutin['nb_vx_after_without_bottoms'].tolist()\n",
    "removed_cutin = [(before - after) / before for before, after in zip(l_before, l_after)]\n",
    "plt.hist(removed_cutin)\n",
    "plt.title(f\"mean : {np.mean(removed_cutin):.3f}, std : {np.std(removed_cutin):.3f}\")\n",
    "plt.show()"
   ]
  },
  {
   "cell_type": "code",
   "execution_count": null,
   "metadata": {},
   "outputs": [],
   "source": []
  }
 ],
 "metadata": {
  "kernelspec": {
   "display_name": "Python 3",
   "language": "python",
   "name": "python3"
  },
  "language_info": {
   "codemirror_mode": {
    "name": "ipython",
    "version": 3
   },
   "file_extension": ".py",
   "mimetype": "text/x-python",
   "name": "python",
   "nbconvert_exporter": "python",
   "pygments_lexer": "ipython3",
   "version": "3.10.12"
  }
 },
 "nbformat": 4,
 "nbformat_minor": 2
}
