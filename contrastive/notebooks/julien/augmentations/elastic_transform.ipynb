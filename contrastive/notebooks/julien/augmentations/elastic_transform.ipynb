{
 "cells": [
  {
   "cell_type": "code",
   "execution_count": 2,
   "metadata": {},
   "outputs": [
    {
     "name": "stdout",
     "output_type": "stream",
     "text": [
      "Collecting elasticdeform\n",
      "  Downloading elasticdeform-0.5.1-cp310-cp310-manylinux_2_17_x86_64.manylinux2014_x86_64.whl (91 kB)\n",
      "\u001b[2K     \u001b[90m━━━━━━━━━━━━━━━━━━━━━━━━━━━━━━━━━━━━━━━━\u001b[0m \u001b[32m91.6/91.6 KB\u001b[0m \u001b[31m2.8 MB/s\u001b[0m eta \u001b[36m0:00:00\u001b[0m\n",
      "\u001b[?25hRequirement already satisfied: numpy in /casa/home/.local/lib/python3.10/site-packages (from elasticdeform) (1.26.4)\n",
      "Requirement already satisfied: scipy in /usr/lib/python3/dist-packages (from elasticdeform) (1.8.0)\n",
      "Installing collected packages: elasticdeform\n",
      "Successfully installed elasticdeform-0.5.1\n"
     ]
    }
   ],
   "source": [
    "! pip install elasticdeform"
   ]
  },
  {
   "cell_type": "code",
   "execution_count": 1,
   "metadata": {},
   "outputs": [
    {
     "name": "stderr",
     "output_type": "stream",
     "text": [
      "/usr/lib/python3/dist-packages/scipy/__init__.py:146: UserWarning: A NumPy version >=1.17.3 and <1.25.0 is required for this version of SciPy (detected version 1.26.4\n",
      "  warnings.warn(f\"A NumPy version >={np_minversion} and <{np_maxversion}\"\n"
     ]
    }
   ],
   "source": [
    "import numpy as np\n",
    "import elasticdeform"
   ]
  },
  {
   "cell_type": "code",
   "execution_count": 2,
   "metadata": {},
   "outputs": [],
   "source": [
    "# example\n",
    "X = np.zeros((40, 40, 40))\n",
    "X[::5, ::5, ::5] = 1\n",
    "\n",
    "# apply deformation with a random 3 x 3 grid\n",
    "X_deformed = elasticdeform.deform_random_grid(X, sigma=25, points=3)"
   ]
  },
  {
   "cell_type": "code",
   "execution_count": 3,
   "metadata": {},
   "outputs": [],
   "source": [
    "# load cingulate crop\n",
    "skeletons = np.load('/neurospin/dico/data/deep_folding/current/datasets/UkBioBank/crops/2mm/CINGULATE/mask/Rskeleton.npy')"
   ]
  },
  {
   "cell_type": "code",
   "execution_count": 12,
   "metadata": {},
   "outputs": [
    {
     "name": "stdout",
     "output_type": "stream",
     "text": [
      "(16, 37, 37)\n",
      "377\n"
     ]
    }
   ],
   "source": [
    "skel = skeletons[0,:,:,:,0]\n",
    "skel = skel!=0\n",
    "print(skel.shape)\n",
    "print(np.sum(skel!=0))\n",
    "skel_name ='sub-1000021'"
   ]
  },
  {
   "cell_type": "code",
   "execution_count": 13,
   "metadata": {},
   "outputs": [
    {
     "name": "stdout",
     "output_type": "stream",
     "text": [
      "1 11 401 0.18960244648318042\n",
      "1.5 11 357 0.12061068702290076\n",
      "2 11 326 0.06515151515151515\n"
     ]
    }
   ],
   "source": [
    "for sigma in [1,1.5,2]:\n",
    "    for points in [11]:\n",
    "        skel_elastic = elasticdeform.deform_random_grid(skel, sigma=sigma, points=points, order=0)\n",
    "        IOU = np.sum(np.logical_and(skel, skel_elastic)) / np.sum(np.logical_or(skel, skel_elastic))\n",
    "        print(sigma, points, np.sum(skel_elastic), IOU)"
   ]
  },
  {
   "cell_type": "code",
   "execution_count": 14,
   "metadata": {},
   "outputs": [],
   "source": [
    "from soma import aims"
   ]
  },
  {
   "cell_type": "code",
   "execution_count": 15,
   "metadata": {},
   "outputs": [
    {
     "name": "stdout",
     "output_type": "stream",
     "text": [
      "1 3 371 0.27427597955706984\n",
      "1.2 3 308 0.1531986531986532\n",
      "1.5 3 422 0.12376933895921238\n",
      "2 3 336 0.0852359208523592\n",
      "1 3 331 0.13643659711075443\n",
      "1.2 3 316 0.048411497730711045\n",
      "1.5 3 366 0.13782542113323124\n",
      "2 3 368 0.09237536656891496\n",
      "1 3 413 0.2762520193861066\n",
      "1.2 3 415 0.09392265193370165\n",
      "1.5 3 332 0.16803953871499178\n",
      "2 3 319 0.15422885572139303\n",
      "1 3 384 0.17076923076923076\n",
      "1.2 3 343 0.19402985074626866\n",
      "1.5 3 318 0.21291448516579406\n",
      "2 3 283 0.10552763819095477\n",
      "1 3 329 0.3320754716981132\n",
      "1.2 3 365 0.18341307814992025\n",
      "1.5 3 384 0.07334273624823695\n",
      "2 3 368 0.12537764350453173\n"
     ]
    }
   ],
   "source": [
    "bucket_files = []\n",
    "for iter in range(5):\n",
    "    for sigma in [1,1.2,1.5,2]:\n",
    "        for points in [11]:\n",
    "            skel_elastic = elasticdeform.deform_random_grid(skel, sigma=sigma, points=points, order=0)\n",
    "            IOU = np.sum(np.logical_and(skel, skel_elastic)) / np.sum(np.logical_or(skel, skel_elastic))\n",
    "            print(sigma, points, np.sum(skel_elastic), IOU)\n",
    "            arr_to_write = skel_elastic.astype(np.int16)\n",
    "            arr_to_write = np.array(arr_to_write, order='F')\n",
    "            vol = aims.Volume(arr_to_write)\n",
    "            vol.header()['voxel_size'] = [2, 2, 2]\n",
    "            filename = f'/volatile/jl277509/data/elastic_illustration/{skel_name}_sigma{sigma}_points{points}_example{iter}.nii.gz'\n",
    "            aims.write(vol, filename)\n",
    "            bucket_files.append(filename)"
   ]
  },
  {
   "cell_type": "code",
   "execution_count": 13,
   "metadata": {},
   "outputs": [
    {
     "name": "stdout",
     "output_type": "stream",
     "text": [
      "global modules: /casa/host/build/share/anatomist-5.2/python_plugins\n",
      "home   modules: /casa/home/.anatomist/python_plugins\n",
      "loading module volumepalettes\n",
      "loading module paletteViewer\n",
      "loading module modelGraphs\n",
      "loading module profilewindow\n",
      "loading module bsa_proba\n",
      "loading module meshsplit\n",
      "loading module selection\n",
      "loading module anacontrolmenu\n",
      "loading module gltf_io\n",
      "loading module ana_image_math\n",
      "loading module palettecontrols\n",
      "loading module statsplotwindow\n",
      "loading module foldsplit\n",
      "loading module histogram\n",
      "loading module save_resampled\n",
      "loading module simple_controls\n",
      "loading module valuesplotwindow\n",
      "loading module gradientpalette\n",
      "all python modules loaded\n",
      "Anatomist started.\n"
     ]
    },
    {
     "ename": "",
     "evalue": "",
     "output_type": "error",
     "traceback": [
      "\u001b[1;31mThe Kernel crashed while executing code in the current cell or a previous cell. \n",
      "\u001b[1;31mPlease review the code in the cell(s) to identify a possible cause of the failure. \n",
      "\u001b[1;31mClick <a href='https://aka.ms/vscodeJupyterKernelCrash'>here</a> for more info. \n",
      "\u001b[1;31mView Jupyter <a href='command:jupyter.viewOutput'>log</a> for further details."
     ]
    }
   ],
   "source": [
    "nb_columns = 4\n",
    "\n",
    "\n",
    "import anatomist.api as ana\n",
    "from soma.qt_gui.qtThread import QtThreadCall\n",
    "from soma.qt_gui.qt_backend import Qt\n",
    "\n",
    "a = ana.Anatomist()\n",
    "\n",
    "from soma import aims\n",
    "\n",
    "def to_bucket(obj):\n",
    "    if obj.type() == obj.BUCKET:\n",
    "        return obj\n",
    "    avol = a.toAimsObject(obj)\n",
    "    c = aims.Converter(intype=avol, outtype=aims.BucketMap_VOID)\n",
    "    abck = c(avol)\n",
    "    bck = a.toAObject(abck)\n",
    "    bck.releaseAppRef()\n",
    "    return bck\n",
    "\n",
    "def build_gradient(pal):\n",
    "    gw = ana.cpp.GradientWidget(None, 'gradientwidget', pal.header()['palette_gradients'])\n",
    "    gw.setHasAlpha(True)\n",
    "    nc = pal.shape[0]\n",
    "    rgbp = gw.fillGradient(nc, True)\n",
    "    rgb = rgbp.data()\n",
    "    npal = pal.np['v']\n",
    "    pb = np.frombuffer(rgb, dtype=np.uint8).reshape((nc, 4))\n",
    "    npal[:, 0, 0, 0, :] = pb\n",
    "    npal[:, 0, 0, 0, :3] = npal[:, 0, 0, 0, :3][:, ::-1]  # BGRA -> RGBA\n",
    "    pal.update()\n",
    "\n",
    "#####################################\n",
    "# We create the blocks\n",
    "#####################################\n",
    "\n",
    "block = a.createWindowsBlock(nb_columns) # nb of columns\n",
    "d = {}\n",
    "\n",
    "for i, file in enumerate(bucket_files):\n",
    "    d[f'bck_{i}'] = to_bucket(a.loadObject(file))\n",
    "    d[f'w_{i}'] = a.createWindow('3D', block=block)#geometry=[100+400*(i%3), 100+440*(i//3), 400, 400])\n",
    "    d[f'w_{i}'].addObjects(d[f'bck_{i}'])"
   ]
  },
  {
   "cell_type": "code",
   "execution_count": null,
   "metadata": {},
   "outputs": [],
   "source": []
  }
 ],
 "metadata": {
  "kernelspec": {
   "display_name": "venv",
   "language": "python",
   "name": "python3"
  },
  "language_info": {
   "codemirror_mode": {
    "name": "ipython",
    "version": 3
   },
   "file_extension": ".py",
   "mimetype": "text/x-python",
   "name": "python",
   "nbconvert_exporter": "python",
   "pygments_lexer": "ipython3",
   "version": "3.10.12"
  }
 },
 "nbformat": 4,
 "nbformat_minor": 2
}
