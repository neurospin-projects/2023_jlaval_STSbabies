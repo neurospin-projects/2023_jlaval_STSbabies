{
 "cells": [
  {
   "cell_type": "code",
   "execution_count": 38,
   "metadata": {},
   "outputs": [],
   "source": [
    "import numpy as np\n",
    "import pandas as pd\n",
    "import os\n",
    "import matplotlib.pyplot as plt"
   ]
  },
  {
   "cell_type": "code",
   "execution_count": 39,
   "metadata": {},
   "outputs": [],
   "source": [
    "# need to define an input size for padding\n",
    "input_size = [30, 38, 37, 1]"
   ]
  },
  {
   "cell_type": "code",
   "execution_count": 40,
   "metadata": {},
   "outputs": [],
   "source": [
    "def apply_padding(arr, final_shape, fill_value=0):\n",
    "    \"\"\" See Padding.__call__().\n",
    "    \"\"\"\n",
    "    orig_shape = arr.shape\n",
    "    padding = []\n",
    "    # print(f\"SHAPES: {orig_shape} - {self.shape}\")\n",
    "    for orig_i, final_i in zip(orig_shape, final_shape):\n",
    "        shape_i = final_i - orig_i\n",
    "        half_shape_i = shape_i // 2\n",
    "        if shape_i % 2 == 0:\n",
    "            padding.append((half_shape_i, half_shape_i))\n",
    "        else:\n",
    "            padding.append((half_shape_i, half_shape_i + 1))\n",
    "    for cnt in range(len(arr.shape) - len(padding)):\n",
    "        padding.append((0, 0))\n",
    "\n",
    "    fill_arr = np.pad(arr, padding, mode=\"constant\",\n",
    "                        constant_values=fill_value)\n",
    "    return(fill_arr)"
   ]
  },
  {
   "cell_type": "code",
   "execution_count": 41,
   "metadata": {},
   "outputs": [],
   "source": [
    "crops_dir = '/neurospin/dico/data/deep_folding/current/datasets/UkBioBank/crops/2mm/'\n",
    "#regions_list = ['S.Or.', 'CINGULATE', 'F.I.P.', 'S.T.s.', 'S.C.-sylv.']\n",
    "regions_list = ['S.Or.', 'CINGULATE']\n",
    "sides = ['L', 'R']"
   ]
  },
  {
   "cell_type": "code",
   "execution_count": 42,
   "metadata": {},
   "outputs": [],
   "source": [
    "save_dir = os.path.join(crops_dir, f'multiple_regions/mask/')\n",
    "if not os.path.isdir(save_dir):\n",
    "    os.makedirs(save_dir)"
   ]
  },
  {
   "cell_type": "code",
   "execution_count": 43,
   "metadata": {},
   "outputs": [
    {
     "name": "stdout",
     "output_type": "stream",
     "text": [
      "S.Or. (21051, 26, 34, 23, 1)\n",
      "CINGULATE (21052, 16, 37, 37, 1)\n",
      "S.Or. (21051, 26, 34, 23, 1)\n",
      "CINGULATE (21052, 16, 37, 37, 1)\n",
      "S.Or. (21051, 26, 34, 23, 1)\n",
      "CINGULATE (21052, 16, 37, 37, 1)\n"
     ]
    }
   ],
   "source": [
    "for datatype, fill_value in zip(['skeleton', 'label', 'distbottom'], [0, 0, 32500]):\n",
    "    skels_list = []\n",
    "    subject_list = []\n",
    "    for sulcus, side in zip(regions_list, sides):\n",
    "        # stack skels\n",
    "        skels = np.load(os.path.join(crops_dir, f'{sulcus}/mask/{side}{datatype}.npy'))\n",
    "        print(sulcus, skels.shape)\n",
    "        shape = [skels.shape[0]] + input_size\n",
    "        skels = apply_padding(skels, shape, fill_value=fill_value)\n",
    "        skels_list.append(skels)\n",
    "        # stack subjects\n",
    "        subs = pd.read_csv(os.path.join(crops_dir, f'{sulcus}/mask/{side}{datatype}_subject.csv'))\n",
    "        l = subs['Subject'].tolist()\n",
    "        l = [sulcus+'_'+elem for elem in l]\n",
    "        subject_list+=l\n",
    "    skels = np.vstack(skels_list)\n",
    "    np.save(save_dir + f'{datatype}.npy', skels)\n",
    "    subs = pd.DataFrame({'Subject': subject_list})\n",
    "    subs.to_csv(save_dir + f'{datatype}_subject.csv', index=False)"
   ]
  },
  {
   "cell_type": "code",
   "execution_count": 44,
   "metadata": {},
   "outputs": [],
   "source": [
    "# train_val_subjects required\n",
    "subs.to_csv(save_dir + f'train_val_subjects.csv', index=False, header=None)"
   ]
  },
  {
   "cell_type": "code",
   "execution_count": null,
   "metadata": {},
   "outputs": [],
   "source": []
  }
 ],
 "metadata": {
  "kernelspec": {
   "display_name": "Python 3",
   "language": "python",
   "name": "python3"
  },
  "language_info": {
   "codemirror_mode": {
    "name": "ipython",
    "version": 3
   },
   "file_extension": ".py",
   "mimetype": "text/x-python",
   "name": "python",
   "nbconvert_exporter": "python",
   "pygments_lexer": "ipython3",
   "version": "3.10.12"
  }
 },
 "nbformat": 4,
 "nbformat_minor": 2
}
