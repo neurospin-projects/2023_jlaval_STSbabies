{
 "cells": [
  {
   "cell_type": "code",
   "execution_count": 78,
   "metadata": {},
   "outputs": [],
   "source": [
    "import numpy as np\n",
    "import pandas as pd\n",
    "import os\n",
    "from sklearn.svm import SVC\n",
    "from sklearn.linear_model import LogisticRegression\n",
    "from sklearn.metrics import auc, roc_curve, roc_auc_score\n",
    "from sklearn.model_selection import cross_val_predict"
   ]
  },
  {
   "cell_type": "markdown",
   "metadata": {},
   "source": [
    "# ORBITAL"
   ]
  },
  {
   "cell_type": "code",
   "execution_count": 79,
   "metadata": {},
   "outputs": [],
   "source": [
    "crops_dir = '/neurospin/dico/data/deep_folding/current/datasets/hcp/crops/2mm/ORBITAL/mask'\n",
    "skels = np.load(os.path.join(crops_dir, 'Lskeleton.npy'))\n",
    "skel_subs = pd.read_csv(os.path.join(crops_dir, 'Lskeleton_subject.csv'))\n",
    "skels = skels.reshape(skels.shape[0], np.prod(skels.shape[1:]))\n",
    "skels = skels.astype(bool)"
   ]
  },
  {
   "cell_type": "code",
   "execution_count": 80,
   "metadata": {},
   "outputs": [],
   "source": [
    "splits_dir = '/neurospin/dico/data/deep_folding/current/datasets/orbital_patterns/Troiani'\n",
    "train_subs = pd.read_csv(os.path.join(splits_dir, 'split_0-6.csv'), names=['Subject'])\n",
    "val_subs = pd.read_csv(os.path.join(splits_dir, 'split_7.csv'), names=['Subject'])\n",
    "test_subs = pd.read_csv(os.path.join(splits_dir, 'split_8-9.csv'), names=['Subject'])"
   ]
  },
  {
   "cell_type": "code",
   "execution_count": 81,
   "metadata": {},
   "outputs": [],
   "source": [
    "label='Left_OFC'\n",
    "labels = pd.read_csv('/neurospin/dico/data/deep_folding/current/datasets/hcp/hcp_OFC_labels_from_0.csv', usecols=['Subject', label])\n",
    "proportions = np.unique(labels[label], return_counts=True)\n",
    "proportions = proportions[1] / np.sum(proportions[1])"
   ]
  },
  {
   "cell_type": "code",
   "execution_count": 82,
   "metadata": {},
   "outputs": [],
   "source": [
    "train = skel_subs.loc[skel_subs['Subject'].isin(train_subs['Subject'])]\n",
    "idxs_train = train.index.tolist()\n",
    "Y_train = pd.merge(train, labels)[label]\n",
    "train_skels= skels[idxs_train]\n",
    "\n",
    "val = skel_subs.loc[skel_subs['Subject'].isin(val_subs['Subject'])]\n",
    "idxs_val = val.index.tolist()\n",
    "Y_val = pd.merge(val, labels)[label]\n",
    "val_skels= skels[idxs_val]\n",
    "\n",
    "test = skel_subs.loc[skel_subs['Subject'].isin(test_subs['Subject'])]\n",
    "idxs_test = test.index.tolist()\n",
    "Y_test = pd.merge(test, labels)[label]\n",
    "test_skels= skels[idxs_test]"
   ]
  },
  {
   "cell_type": "code",
   "execution_count": 10,
   "metadata": {},
   "outputs": [
    {
     "name": "stdout",
     "output_type": "stream",
     "text": [
      "0.01 None\n",
      "[0.64375    0.48601399 0.70634921 0.41037736]\n",
      "0.5966808119985338\n",
      "0.1 None\n",
      "[0.6475     0.56293706 0.74285714 0.41037736]\n",
      "0.6260947128964034\n",
      "1 None\n",
      "[0.6575     0.56118881 0.75079365 0.41981132]\n",
      "0.6324608098030321\n",
      "10 None\n",
      "[0.66125    0.5541958  0.75079365 0.39622642]\n",
      "0.6308885485973793\n"
     ]
    }
   ],
   "source": [
    "for C in [1e-2, 1e-1, 1, 10]:    \n",
    "    for class_weight in [None]:\n",
    "        for degree in [3]:\n",
    "            model = SVC(kernel='rbf', probability=True, degree=degree,\n",
    "                        max_iter=10000, random_state=None,\n",
    "                        C=C, class_weight=class_weight, decision_function_shape='ovr')\n",
    "            \n",
    "            model.fit(train_skels, Y_train)\n",
    "            labels_proba = model.predict_proba(val_skels)\n",
    "            roc_aucs = roc_auc_score(Y_val, labels_proba, multi_class='ovr', average=None)\n",
    "\n",
    "            print(C, class_weight)\n",
    "            print(roc_aucs)\n",
    "            print(np.dot(roc_aucs, proportions.T))"
   ]
  },
  {
   "cell_type": "code",
   "execution_count": 127,
   "metadata": {},
   "outputs": [
    {
     "name": "stdout",
     "output_type": "stream",
     "text": [
      "[0.66545675 0.61278195 0.65291262 0.70560748]\n",
      "0.6512508148626943\n"
     ]
    }
   ],
   "source": [
    "# test\n",
    "model = SVC(kernel='rbf', probability=True, degree=3,\n",
    "                        max_iter=-1, random_state=None,\n",
    "                        C=1, class_weight=None, decision_function_shape='ovr')\n",
    "model.fit(train_skels, Y_train)\n",
    "labels_proba = model.predict_proba(test_skels)\n",
    "roc_auc = roc_auc_score(Y_test, labels_proba, multi_class='ovr', average=None)\n",
    "print(roc_auc)\n",
    "print(np.dot(roc_auc, proportions.T))"
   ]
  },
  {
   "cell_type": "code",
   "execution_count": 128,
   "metadata": {},
   "outputs": [
    {
     "name": "stdout",
     "output_type": "stream",
     "text": [
      "[0.62       0.51573427 0.63968254 0.36792453]\n",
      "0.5789860793389128\n"
     ]
    }
   ],
   "source": [
    "# LogisticRegression\n",
    "model = LogisticRegression(C=1,  penalty='l1', solver='liblinear', class_weight='balanced', max_iter=100, multi_class='ovr')\n",
    "model.fit(train_skels, Y_train)\n",
    "labels_proba = model.predict_proba(val_skels)\n",
    "roc_auc = roc_auc_score(Y_val, labels_proba, multi_class='ovr', average=None)\n",
    "print(roc_auc)\n",
    "print(np.dot(roc_auc, proportions.T))"
   ]
  },
  {
   "cell_type": "code",
   "execution_count": 124,
   "metadata": {},
   "outputs": [
    {
     "name": "stdout",
     "output_type": "stream",
     "text": [
      "[0.65759226 0.60594668 0.59061489 0.42523364]\n",
      "0.6171394484409242\n"
     ]
    }
   ],
   "source": [
    "#test \n",
    "model = LogisticRegression(C=1,  penalty='l1', solver='liblinear', class_weight='balanced', max_iter=100, multi_class='ovr')\n",
    "model.fit(train_skels, Y_train)\n",
    "labels_proba = model.predict_proba(test_skels)\n",
    "roc_auc = roc_auc_score(Y_test, labels_proba, multi_class='ovr', average=None)\n",
    "print(roc_auc)\n",
    "print(np.dot(roc_auc, proportions.T))"
   ]
  },
  {
   "cell_type": "code",
   "execution_count": 129,
   "metadata": {},
   "outputs": [
    {
     "name": "stderr",
     "output_type": "stream",
     "text": [
      "/volatile/jl277509/Runs/02_STS_babies/Program/2023_jlaval_STSbabies/venv/lib/python3.10/site-packages/sklearn/linear_model/_sag.py:350: ConvergenceWarning: The max_iter was reached which means the coef_ did not converge\n",
      "  warnings.warn(\n"
     ]
    },
    {
     "name": "stdout",
     "output_type": "stream",
     "text": [
      "[0.63       0.56643357 0.73015873 0.36320755]\n",
      "0.6133699142237123\n"
     ]
    }
   ],
   "source": [
    "# ElasticNet\n",
    "model = LogisticRegression(C=1, penalty='elasticnet', solver='saga', l1_ratio=0.5, class_weight='balanced', max_iter=100, multi_class='ovr')\n",
    "model.fit(train_skels, Y_train)\n",
    "labels_proba = model.predict_proba(val_skels)\n",
    "roc_auc = roc_auc_score(Y_val, labels_proba, multi_class='ovr', average=None)\n",
    "print(roc_auc)\n",
    "print(np.dot(roc_auc, proportions.T))"
   ]
  },
  {
   "cell_type": "code",
   "execution_count": 126,
   "metadata": {},
   "outputs": [
    {
     "name": "stderr",
     "output_type": "stream",
     "text": [
      "/volatile/jl277509/Runs/02_STS_babies/Program/2023_jlaval_STSbabies/venv/lib/python3.10/site-packages/sklearn/linear_model/_sag.py:350: ConvergenceWarning: The max_iter was reached which means the coef_ did not converge\n",
      "  warnings.warn(\n",
      "/volatile/jl277509/Runs/02_STS_babies/Program/2023_jlaval_STSbabies/venv/lib/python3.10/site-packages/sklearn/linear_model/_sag.py:350: ConvergenceWarning: The max_iter was reached which means the coef_ did not converge\n",
      "  warnings.warn(\n",
      "/volatile/jl277509/Runs/02_STS_babies/Program/2023_jlaval_STSbabies/venv/lib/python3.10/site-packages/sklearn/linear_model/_sag.py:350: ConvergenceWarning: The max_iter was reached which means the coef_ did not converge\n",
      "  warnings.warn(\n"
     ]
    },
    {
     "name": "stdout",
     "output_type": "stream",
     "text": [
      "[0.6291591  0.58202324 0.64967638 0.47079439]\n",
      "0.6098809629161359\n"
     ]
    },
    {
     "name": "stderr",
     "output_type": "stream",
     "text": [
      "/volatile/jl277509/Runs/02_STS_babies/Program/2023_jlaval_STSbabies/venv/lib/python3.10/site-packages/sklearn/linear_model/_sag.py:350: ConvergenceWarning: The max_iter was reached which means the coef_ did not converge\n",
      "  warnings.warn(\n"
     ]
    }
   ],
   "source": [
    "# ElasticNet\n",
    "model = LogisticRegression(C=0.1, penalty='elasticnet', solver='saga', l1_ratio=0.5, class_weight='balanced', max_iter=100, multi_class='ovr')\n",
    "model.fit(train_skels, Y_train)\n",
    "labels_proba = model.predict_proba(test_skels)\n",
    "roc_auc = roc_auc_score(Y_test, labels_proba, multi_class='ovr', average=None)\n",
    "print(roc_auc)\n",
    "print(np.dot(roc_auc, proportions.T))"
   ]
  },
  {
   "cell_type": "markdown",
   "metadata": {},
   "source": [
    "# PCS"
   ]
  },
  {
   "cell_type": "code",
   "execution_count": 11,
   "metadata": {},
   "outputs": [],
   "source": [
    "crops_dir = '/neurospin/dico/data/deep_folding/current/datasets/ACCpatterns/crops/2mm/CINGULATE/mask'\n",
    "skels = np.load(os.path.join(crops_dir, 'Rskeleton.npy'))\n",
    "skel_subs = pd.read_csv(os.path.join(crops_dir, 'Rskeleton_subject.csv'))\n",
    "skels = skels.reshape(skels.shape[0], np.prod(skels.shape[1:]))\n",
    "skels = skels.astype(bool)"
   ]
  },
  {
   "cell_type": "code",
   "execution_count": 12,
   "metadata": {},
   "outputs": [],
   "source": [
    "splits_dir = '/neurospin/dico/data/deep_folding/current/datasets/ACCpatterns/train_val_test'\n",
    "train_subs = pd.read_csv(os.path.join(splits_dir, 'ACCpatterns_subjects_filtered_train.csv'), names=['Subject'])\n",
    "val_subs = pd.read_csv(os.path.join(splits_dir, 'ACCpatterns_subjects_filtered_val.csv'), names=['Subject'])\n",
    "test_subs = pd.read_csv(os.path.join(splits_dir, 'ACCpatterns_subjects_filtered_test.csv'), names=['Subject'])"
   ]
  },
  {
   "cell_type": "code",
   "execution_count": 13,
   "metadata": {},
   "outputs": [],
   "source": [
    "label='Right_PCS'\n",
    "labels = pd.read_csv('/neurospin/dico/data/deep_folding/current/datasets/ACCpatterns/subjects_labels.csv', usecols=['long_name', label])\n",
    "labels.columns = ['Subject', label]\n",
    "proportions = np.unique(labels[label], return_counts=True)\n",
    "proportions = proportions[1] / np.sum(proportions[1])"
   ]
  },
  {
   "cell_type": "code",
   "execution_count": 14,
   "metadata": {},
   "outputs": [],
   "source": [
    "train = skel_subs.loc[skel_subs['Subject'].isin(train_subs['Subject'])]\n",
    "idxs_train = train.index.tolist()\n",
    "Y_train = pd.merge(train, labels)[label]\n",
    "train_skels= skels[idxs_train]\n",
    "\n",
    "val = skel_subs.loc[skel_subs['Subject'].isin(val_subs['Subject'])]\n",
    "idxs_val = val.index.tolist()\n",
    "Y_val = pd.merge(val, labels)[label]\n",
    "val_skels= skels[idxs_val]\n",
    "\n",
    "test = skel_subs.loc[skel_subs['Subject'].isin(test_subs['Subject'])]\n",
    "idxs_test = test.index.tolist()\n",
    "Y_test = pd.merge(test, labels)[label]\n",
    "test_skels= skels[idxs_test]"
   ]
  },
  {
   "cell_type": "code",
   "execution_count": 41,
   "metadata": {},
   "outputs": [
    {
     "name": "stdout",
     "output_type": "stream",
     "text": [
      "0.01 balanced 2\n",
      "0.1904761904761905\n",
      "0.01 balanced 3\n",
      "0.1904761904761905\n",
      "0.01 balanced 4\n",
      "0.1904761904761905\n",
      "0.01 balanced 5\n",
      "0.1904761904761905\n",
      "0.1 balanced 2\n",
      "0.1904761904761905\n",
      "0.1 balanced 3\n",
      "0.1904761904761905\n",
      "0.1 balanced 4\n",
      "0.1904761904761905\n",
      "0.1 balanced 5\n",
      "0.1904761904761905\n",
      "1 balanced 2\n",
      "0.8205128205128205\n",
      "1 balanced 3\n",
      "0.8205128205128205\n",
      "1 balanced 4\n",
      "0.8205128205128205\n",
      "1 balanced 5\n",
      "0.8205128205128205\n",
      "10 balanced 2\n",
      "0.8241758241758242\n",
      "10 balanced 3\n",
      "0.8241758241758242\n",
      "10 balanced 4\n",
      "0.8241758241758242\n",
      "10 balanced 5\n",
      "0.8241758241758242\n"
     ]
    }
   ],
   "source": [
    "for C in [1e-2, 1e-1, 1, 10]:    \n",
    "    for class_weight in ['balanced']:\n",
    "        for degree in [2, 3, 4, 5]:\n",
    "\n",
    "            model = SVC(kernel='rbf', probability=True, degree=degree,\n",
    "                        max_iter=-1, random_state=None,\n",
    "                        C=C, class_weight=class_weight, decision_function_shape='ovr')\n",
    "            \n",
    "            model.fit(train_skels, Y_train)\n",
    "            labels_proba = model.predict_proba(val_skels)\n",
    "            roc_auc = roc_auc_score(Y_val, labels_proba[:, 1])\n",
    "\n",
    "            print(C, class_weight, degree)\n",
    "            print(roc_auc)"
   ]
  },
  {
   "cell_type": "code",
   "execution_count": null,
   "metadata": {},
   "outputs": [],
   "source": [
    "model = SVC(kernel='rbf', probability=True, degree=3,\n",
    "                        max_iter=100, random_state=None,\n",
    "                        C=1, class_weight='balanced', decision_function_shape='ovr')\n",
    "model.fit(val_skels, Y_val)\n",
    "labels_proba = model.predict_proba(val_skels)\n",
    "roc_auc = roc_auc_score(Y_val, labels_proba[:, 1])\n",
    "print(roc_auc)"
   ]
  },
  {
   "cell_type": "code",
   "execution_count": 39,
   "metadata": {},
   "outputs": [
    {
     "name": "stderr",
     "output_type": "stream",
     "text": [
      "/volatile/jl277509/Runs/02_STS_babies/Program/2023_jlaval_STSbabies/venv/lib/python3.10/site-packages/sklearn/svm/_base.py:297: ConvergenceWarning: Solver terminated early (max_iter=100).  Consider pre-processing your data with StandardScaler or MinMaxScaler.\n",
      "  warnings.warn(\n"
     ]
    },
    {
     "name": "stdout",
     "output_type": "stream",
     "text": [
      "0.7428842504743833\n"
     ]
    }
   ],
   "source": [
    "model = SVC(kernel='rbf', probability=True, degree=3,\n",
    "                        max_iter=-1, random_state=None,\n",
    "                        C=1, class_weight='balanced', decision_function_shape='ovr')\n",
    "model.fit(train_skels, Y_train)\n",
    "labels_proba = model.predict_proba(test_skels)\n",
    "roc_auc = roc_auc_score(Y_test, labels_proba[:, 1])\n",
    "print(roc_auc)"
   ]
  },
  {
   "cell_type": "code",
   "execution_count": 71,
   "metadata": {},
   "outputs": [
    {
     "name": "stdout",
     "output_type": "stream",
     "text": [
      "0.7912087912087913\n"
     ]
    }
   ],
   "source": [
    "# LogisticRegression\n",
    "model = LogisticRegression(C=0.3, penalty='l1', solver='liblinear', class_weight='balanced', max_iter=100000)\n",
    "model.fit(train_skels, Y_train)\n",
    "labels_proba = model.predict_proba(val_skels)\n",
    "roc_auc = roc_auc_score(Y_val, labels_proba[:, 1])\n",
    "print(roc_auc)"
   ]
  },
  {
   "cell_type": "code",
   "execution_count": 76,
   "metadata": {},
   "outputs": [
    {
     "name": "stdout",
     "output_type": "stream",
     "text": [
      "0.6195445920303605\n"
     ]
    }
   ],
   "source": [
    "#test\n",
    "model = LogisticRegression(C=0.3, penalty='l1', solver='liblinear', class_weight='balanced', max_iter=100000)\n",
    "model.fit(train_skels, Y_train)\n",
    "labels_proba = model.predict_proba(test_skels)\n",
    "roc_auc = roc_auc_score(Y_test, labels_proba[:, 1])\n",
    "print(roc_auc)"
   ]
  },
  {
   "cell_type": "code",
   "execution_count": 58,
   "metadata": {},
   "outputs": [
    {
     "name": "stdout",
     "output_type": "stream",
     "text": [
      "0.8058608058608059\n"
     ]
    },
    {
     "name": "stderr",
     "output_type": "stream",
     "text": [
      "/volatile/jl277509/Runs/02_STS_babies/Program/2023_jlaval_STSbabies/venv/lib/python3.10/site-packages/sklearn/linear_model/_sag.py:350: ConvergenceWarning: The max_iter was reached which means the coef_ did not converge\n",
      "  warnings.warn(\n"
     ]
    }
   ],
   "source": [
    "# ElasticNet\n",
    "model = LogisticRegression(C=0.1, penalty='elasticnet', solver='saga', l1_ratio=0.5, class_weight='balanced', max_iter=100)\n",
    "model.fit(train_skels, Y_train)\n",
    "labels_proba = model.predict_proba(val_skels)\n",
    "roc_auc = roc_auc_score(Y_val, labels_proba[:, 1])\n",
    "print(roc_auc)"
   ]
  },
  {
   "cell_type": "code",
   "execution_count": 77,
   "metadata": {},
   "outputs": [
    {
     "name": "stdout",
     "output_type": "stream",
     "text": [
      "0.7201138519924098\n"
     ]
    },
    {
     "name": "stderr",
     "output_type": "stream",
     "text": [
      "/volatile/jl277509/Runs/02_STS_babies/Program/2023_jlaval_STSbabies/venv/lib/python3.10/site-packages/sklearn/linear_model/_sag.py:350: ConvergenceWarning: The max_iter was reached which means the coef_ did not converge\n",
      "  warnings.warn(\n"
     ]
    }
   ],
   "source": [
    "# test\n",
    "model = LogisticRegression(C=0.1, penalty='elasticnet', solver='saga', l1_ratio=0.5, class_weight='balanced', max_iter=100)\n",
    "model.fit(train_skels, Y_train)\n",
    "labels_proba = model.predict_proba(test_skels)\n",
    "roc_auc = roc_auc_score(Y_test, labels_proba[:, 1])\n",
    "print(roc_auc)"
   ]
  },
  {
   "cell_type": "code",
   "execution_count": null,
   "metadata": {},
   "outputs": [],
   "source": []
  }
 ],
 "metadata": {
  "kernelspec": {
   "display_name": "venv",
   "language": "python",
   "name": "python3"
  },
  "language_info": {
   "codemirror_mode": {
    "name": "ipython",
    "version": 3
   },
   "file_extension": ".py",
   "mimetype": "text/x-python",
   "name": "python",
   "nbconvert_exporter": "python",
   "pygments_lexer": "ipython3",
   "version": "3.10.12"
  }
 },
 "nbformat": 4,
 "nbformat_minor": 2
}
