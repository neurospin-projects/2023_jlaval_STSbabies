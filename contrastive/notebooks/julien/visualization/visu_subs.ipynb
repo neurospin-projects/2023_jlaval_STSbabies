{
 "cells": [
  {
   "cell_type": "code",
   "execution_count": 3,
   "metadata": {},
   "outputs": [
    {
     "name": "stderr",
     "output_type": "stream",
     "text": [
      "/usr/lib/python3/dist-packages/scipy/__init__.py:146: UserWarning: A NumPy version >=1.17.3 and <1.25.0 is required for this version of SciPy (detected version 1.26.4\n",
      "  warnings.warn(f\"A NumPy version >={np_minversion} and <{np_maxversion}\"\n"
     ]
    }
   ],
   "source": [
    "import anatomist.api as ana\n",
    "from soma.qt_gui.qtThread import QtThreadCall\n",
    "from soma.qt_gui.qt_backend import Qt\n",
    "from soma import aims\n",
    "import numpy as np\n",
    "import os"
   ]
  },
  {
   "cell_type": "code",
   "execution_count": 4,
   "metadata": {},
   "outputs": [
    {
     "name": "stdout",
     "output_type": "stream",
     "text": [
      "global modules: /casa/host/build/share/anatomist-5.2/python_plugins\n",
      "home   modules: /casa/home/.anatomist/python_plugins\n",
      "loading module volumepalettes\n",
      "loading module paletteViewer\n",
      "loading module modelGraphs\n",
      "loading module infowindow\n",
      "loading module profilewindow\n",
      "loading module bsa_proba\n",
      "loading module meshsplit\n",
      "loading module selection\n",
      "loading module anacontrolmenu\n",
      "loading module gltf_io\n",
      "loading module ana_image_math\n",
      "loading module palettecontrols\n",
      "loading module statsplotwindow\n",
      "loading module foldsplit\n",
      "loading module histogram\n",
      "loading module save_resampled\n",
      "loading module simple_controls\n",
      "loading module valuesplotwindow\n",
      "loading module gradientpalette\n",
      "all python modules loaded\n",
      "Anatomist started.\n"
     ]
    }
   ],
   "source": [
    "a = ana.Anatomist()"
   ]
  },
  {
   "cell_type": "code",
   "execution_count": 5,
   "metadata": {},
   "outputs": [],
   "source": [
    "side = \"R\"\n",
    "region = 'CINGULATE.'"
   ]
  },
  {
   "cell_type": "code",
   "execution_count": 14,
   "metadata": {},
   "outputs": [],
   "source": [
    "dataset = 'UkBioBank'\n",
    "list_subjects = ['sub-1778253', 'sub-3343267', 'sub-3999349', 'sub-1024948', # cosine farthest\n",
    "       'sub-2387205', 'sub-1406912', 'sub-4201150', 'sub-1313297',\n",
    "       'sub-3429791', 'sub-4814576', 'sub-5542529', 'sub-2078993']\n",
    "list_subjects = ['sub-4830095',\n",
    " 'sub-3174845',\n",
    " 'sub-1313297',\n",
    " 'sub-1347557',\n",
    " 'sub-3552064',\n",
    " 'sub-3309423',\n",
    " 'sub-2078993',\n",
    " 'sub-3945959',\n",
    " 'sub-1024948',\n",
    " 'sub-3343267',\n",
    " 'sub-1566664',\n",
    " 'sub-3999349'] # cosine 1st neighbour\n",
    "#list_subjects = ['sub-2078993', 'sub-4378660', 'sub-2804664', 'sub-2149845',\n",
    "#       'sub-2154500', 'sub-1024948', 'sub-4520895', 'sub-5264927',\n",
    "#       'sub-4036145', 'sub-3742022', 'sub-2491351', 'sub-5542529'] # chebyshev\n",
    "list_subjects = ['sub-2711476',\n",
    " 'sub-3377257',\n",
    " 'sub-4556181',\n",
    " 'sub-3920439',\n",
    " 'sub-5751320',\n",
    " 'sub-3552064',\n",
    " 'sub-3172477',\n",
    " 'sub-1566664',\n",
    " 'sub-4830095',\n",
    " 'sub-3429791',\n",
    " 'sub-3174845',\n",
    " 'sub-3999349'] # cosine 5th neighbour\n",
    "list_subjects = ['sub-1166456',\n",
    " 'sub-2928978',\n",
    " 'sub-2889071',\n",
    " 'sub-1758091',\n",
    " 'sub-1903469',\n",
    " 'sub-5372169',\n",
    " 'sub-1059142',\n",
    " 'sub-2569891',\n",
    " 'sub-1963424',\n",
    " 'sub-1091648',\n",
    " 'sub-1545946',\n",
    " 'sub-2909909',\n",
    " 'sub-4945099',\n",
    " 'sub-3082253',\n",
    " 'sub-1945921'] ## intersection with neighbours !\n",
    "#list_subjects = ['sub-4603158', 'sub-4643773', 'sub-5335094', 'sub-1002188', 'sub-4706238', 'sub-2158071', 'sub-1096682', 'sub-4171004', 'sub-1921308',\n",
    "#'sub-4091566', 'sub-1489362', 'sub-4359267', 'sub-5210463', 'sub-5838136', 'sub-1270546'] ## intersection 15:30\n",
    "#list_subjects = ['sub-4827346', 'sub-2717128', 'sub-4106264', 'sub-5112813', 'sub-4087404', 'sub-1275722',\n",
    "#'sub-3271608', 'sub-2442557', 'sub-4756052', 'sub-1396937', 'sub-1087571', 'sub-1066680', 'sub-4625766', 'sub-1245608', 'sub-1010220'] # intersection 10000:10015\n",
    "#list_subjects = ['sub-2353834', 'sub-3974161', 'sub-3862932', 'sub-1873747', 'sub-5731708', 'sub-4097462', 'sub-1485567', 'sub-4706505',\n",
    "#'sub-1885089', 'sub-3538950', 'sub-4112397', 'sub-3897958', 'sub-3662863', 'sub-4602321', 'sub-4989927'] # intersection -15:\n",
    "list_subjects = ['sub-1903469',\n",
    " 'sub-2889071', 'sub-4989927', 'sub-1945921', 'sub-4107177', 'sub-1310920', 'sub-5838136', 'sub-5782466',\n",
    " 'sub-1005290', 'sub-2501331', 'sub-1946263', 'sub-4389685', 'sub-1002188', 'sub-5980436', 'sub-4772993'] ## intersection with neighbours / size\n",
    "list_subjects = [\n",
    " 'sub-1903469',\n",
    " 'sub-2889071',\n",
    " 'sub-1945921',\n",
    " 'sub-4107177',\n",
    " 'sub-1310920',\n",
    " 'sub-4989927',\n",
    " 'sub-5838136',\n",
    " 'sub-2501331',\n",
    " 'sub-1005290',\n",
    " 'sub-5782466',\n",
    " 'sub-1002188',\n",
    " 'sub-4389685',\n",
    " 'sub-1946263',\n",
    " 'sub-1085241',\n",
    " 'sub-5980436',\n",
    " 'sub-1113217',\n",
    " 'sub-1091648',\n",
    " 'sub-1166456',\n",
    " 'sub-1096682']\n",
    "list_subjects = ['sub-5896229',\n",
    " 'sub-3491711',\n",
    " 'sub-1959785',\n",
    " 'sub-2969452',\n",
    " 'sub-1567166',\n",
    " 'sub-3824165',\n",
    " 'sub-2898042',\n",
    " 'sub-4849550',\n",
    " 'sub-4389587',\n",
    " 'sub-5423345',\n",
    " 'sub-1023965',\n",
    " 'sub-5924099',\n",
    " 'sub-2791091',\n",
    " 'sub-5945132',\n",
    " 'sub-5297941',\n",
    " 'sub-5510712',\n",
    " 'sub-1683899',\n",
    " 'sub-2177718',\n",
    " 'sub-1213518',\n",
    " 'sub-1028481']"
   ]
  },
  {
   "cell_type": "code",
   "execution_count": 30,
   "metadata": {},
   "outputs": [],
   "source": [
    "dataset = 'CCD'\n",
    "list_subjects = ['ca090293', 'cr070055', 'gd070065', 'lc110410', 'np090301', 'pa080037','pz080261'] # anomaly\n",
    "#list_subjects = ['ag080048', 'bt080019', 'cd100556', 'fb070174', 'md110095', 'mm080047','vp100400'] # control\n",
    "list_subjects=['bt080019',\n",
    " 'vp100400',\n",
    " 'mm080047',\n",
    " 'cd100556',\n",
    " 'ag080048',\n",
    " 'md110095',\n",
    " 'fb070174'] # less abnormal to most abnormal (control)\n",
    "list_subjects=['lc110410',\n",
    " 'pa080037',\n",
    " 'cr070055',\n",
    " 'gd070065',\n",
    " 'pz080261',\n",
    " 'np090301',\n",
    " 'ca090293'] # same but anomaly\n",
    "list_subjects=['pa080037',\n",
    " 'lc110410',\n",
    " 'gd070065',\n",
    " 'cr070055',\n",
    " 'pz080261',\n",
    " 'np090301',\n",
    " 'ca090293',\n",
    " 'bt080019',\n",
    " 'vp100400',\n",
    " 'mm080047',\n",
    " 'cd100556',\n",
    " 'md110095',\n",
    " 'ag080048',\n",
    " 'fb070174']"
   ]
  },
  {
   "cell_type": "markdown",
   "metadata": {},
   "source": [
    "# Visu graphs"
   ]
  },
  {
   "cell_type": "code",
   "execution_count": 18,
   "metadata": {},
   "outputs": [
    {
     "ename": "AttributeError",
     "evalue": "'NoneType' object has no attribute 'loadReferentialFromHeader'",
     "output_type": "error",
     "traceback": [
      "\u001b[0;31m---------------------------------------------------------------------------\u001b[0m",
      "\u001b[0;31mAttributeError\u001b[0m                            Traceback (most recent call last)",
      "\u001b[0;32m<ipython-input-18-2e3d3fb69adb>\u001b[0m in \u001b[0;36m<module>\u001b[0;34m\u001b[0m\n\u001b[1;32m      5\u001b[0m     \u001b[0mdic_windows\u001b[0m\u001b[0;34m[\u001b[0m\u001b[0;34mf'w{subject}'\u001b[0m\u001b[0;34m]\u001b[0m \u001b[0;34m=\u001b[0m \u001b[0ma\u001b[0m\u001b[0;34m.\u001b[0m\u001b[0mcreateWindow\u001b[0m\u001b[0;34m(\u001b[0m\u001b[0;34m\"3D\"\u001b[0m\u001b[0;34m,\u001b[0m \u001b[0mblock\u001b[0m\u001b[0;34m=\u001b[0m\u001b[0mblock\u001b[0m\u001b[0;34m)\u001b[0m\u001b[0;34m\u001b[0m\u001b[0;34m\u001b[0m\u001b[0m\n\u001b[1;32m      6\u001b[0m     \u001b[0mdic_windows\u001b[0m\u001b[0;34m[\u001b[0m\u001b[0;34mf'white_{subject}'\u001b[0m\u001b[0;34m]\u001b[0m \u001b[0;34m=\u001b[0m \u001b[0ma\u001b[0m\u001b[0;34m.\u001b[0m\u001b[0mloadObject\u001b[0m\u001b[0;34m(\u001b[0m\u001b[0;34mf'{path_to_t1mri}/default_analysis/segmentation/mesh/{subject}_{side}white.gii'\u001b[0m\u001b[0;34m)\u001b[0m\u001b[0;34m\u001b[0m\u001b[0;34m\u001b[0m\u001b[0m\n\u001b[0;32m----> 7\u001b[0;31m     \u001b[0mdic_windows\u001b[0m\u001b[0;34m[\u001b[0m\u001b[0;34mf'white_{subject}'\u001b[0m\u001b[0;34m]\u001b[0m\u001b[0;34m.\u001b[0m\u001b[0mloadReferentialFromHeader\u001b[0m\u001b[0;34m(\u001b[0m\u001b[0;34m)\u001b[0m\u001b[0;34m\u001b[0m\u001b[0;34m\u001b[0m\u001b[0m\n\u001b[0m\u001b[1;32m      8\u001b[0m     \u001b[0mdic_windows\u001b[0m\u001b[0;34m[\u001b[0m\u001b[0;34mf'sulci_{subject}'\u001b[0m\u001b[0;34m]\u001b[0m \u001b[0;34m=\u001b[0m \u001b[0ma\u001b[0m\u001b[0;34m.\u001b[0m\u001b[0mloadObject\u001b[0m\u001b[0;34m(\u001b[0m\u001b[0;34mf'{path_to_t1mri}/default_analysis/folds/3.1/{side}{subject}.arg'\u001b[0m\u001b[0;34m)\u001b[0m\u001b[0;34m\u001b[0m\u001b[0;34m\u001b[0m\u001b[0m\n\u001b[1;32m      9\u001b[0m     \u001b[0mdic_windows\u001b[0m\u001b[0;34m[\u001b[0m\u001b[0;34mf'sulci_{subject}'\u001b[0m\u001b[0;34m]\u001b[0m\u001b[0;34m.\u001b[0m\u001b[0mloadReferentialFromHeader\u001b[0m\u001b[0;34m(\u001b[0m\u001b[0;34m)\u001b[0m\u001b[0;34m\u001b[0m\u001b[0;34m\u001b[0m\u001b[0m\n",
      "\u001b[0;31mAttributeError\u001b[0m: 'NoneType' object has no attribute 'loadReferentialFromHeader'"
     ]
    }
   ],
   "source": [
    "block = a.createWindowsBlock(5) # 4 columns\n",
    "dic_windows = {}\n",
    "for subject in list_subjects:\n",
    "    path_to_t1mri = f'/volatile/jl277509/data/graphs_ukb/{subject}/ses-2/anat/t1mri/default_acquisition'\n",
    "    dic_windows[f'w{subject}'] = a.createWindow(\"3D\", block=block)\n",
    "    dic_windows[f'white_{subject}'] = a.loadObject(f'{path_to_t1mri}/default_analysis/segmentation/mesh/{subject}_{side}white.gii')\n",
    "    dic_windows[f'white_{subject}'].loadReferentialFromHeader()\n",
    "    dic_windows[f'sulci_{subject}'] = a.loadObject(f'{path_to_t1mri}/default_analysis/folds/3.1/{side}{subject}.arg')\n",
    "    dic_windows[f'sulci_{subject}'].loadReferentialFromHeader()\n",
    "    dic_windows[f'w{subject}'].addObjects([dic_windows[f'white_{subject}'], dic_windows[f'sulci_{subject}']])"
   ]
  },
  {
   "cell_type": "markdown",
   "metadata": {},
   "source": [
    "# Visu crop buckets"
   ]
  },
  {
   "cell_type": "code",
   "execution_count": 31,
   "metadata": {},
   "outputs": [
    {
     "data": {
      "text/plain": [
       "['/neurospin/dico/data/deep_folding/current/datasets/CCD/crops/2mm/CINGULATE./mask/Rbuckets/bt080019_cropped_skeleton.bck',\n",
       " '/neurospin/dico/data/deep_folding/current/datasets/CCD/crops/2mm/CINGULATE./mask/Rbuckets/vp100400_cropped_skeleton.bck',\n",
       " '/neurospin/dico/data/deep_folding/current/datasets/CCD/crops/2mm/CINGULATE./mask/Rbuckets/mm080047_cropped_skeleton.bck',\n",
       " '/neurospin/dico/data/deep_folding/current/datasets/CCD/crops/2mm/CINGULATE./mask/Rbuckets/cd100556_cropped_skeleton.bck',\n",
       " '/neurospin/dico/data/deep_folding/current/datasets/CCD/crops/2mm/CINGULATE./mask/Rbuckets/md110095_cropped_skeleton.bck',\n",
       " '/neurospin/dico/data/deep_folding/current/datasets/CCD/crops/2mm/CINGULATE./mask/Rbuckets/ag080048_cropped_skeleton.bck',\n",
       " '/neurospin/dico/data/deep_folding/current/datasets/CCD/crops/2mm/CINGULATE./mask/Rbuckets/fb070174_cropped_skeleton.bck']"
      ]
     },
     "execution_count": 31,
     "metadata": {},
     "output_type": "execute_result"
    }
   ],
   "source": [
    "bucket_files = []\n",
    "\n",
    "for subject_id in list_subjects:\n",
    "    if dataset.lower() in ['ukb', 'ukbiobank']:\n",
    "        dataset = 'UkBioBank'\n",
    "        path = f'/neurospin/dico/data/deep_folding/current/datasets/{dataset}/crops/2mm/{region}/mask/{side}buckets'\n",
    "\n",
    "    if dataset.lower() in ['hcp']:\n",
    "        path = f'/neurospin/dico/data/deep_folding/current/datasets/{dataset.lower()}/crops/2mm/{region}/mask/{side}buckets'\n",
    "\n",
    "    if dataset.lower() in ['ccd']:\n",
    "        path = f'/neurospin/dico/data/deep_folding/current/datasets/CCD/crops/2mm/{region}/mask/{side}buckets'\n",
    "\n",
    "    filename = f'{path}/{subject_id}_cropped_skeleton.bck'#.minf'\n",
    "\n",
    "    if os.path. isfile(filename):\n",
    "        bucket_files.append(filename)\n",
    "    else:\n",
    "        print(f\"{filename} is not a correct path, or the .bck doesn't exist\")\n",
    "bucket_files"
   ]
  },
  {
   "cell_type": "code",
   "execution_count": 32,
   "metadata": {},
   "outputs": [],
   "source": [
    "block = a.createWindowsBlock(7) # 4 columns\n",
    "d = {}\n",
    "\n",
    "for i, file in enumerate(bucket_files):\n",
    "    d[f'bck_{i}'] = a.loadObject(file)\n",
    "    d[f'w_{i}'] = a.createWindow('3D', block=block)#geometry=[100+400*(i%3), 100+440*(i//3), 400, 400])\n",
    "    d[f'w_{i}'].addObjects(d[f'bck_{i}'])"
   ]
  },
  {
   "cell_type": "code",
   "execution_count": null,
   "metadata": {},
   "outputs": [],
   "source": []
  }
 ],
 "metadata": {
  "kernelspec": {
   "display_name": "venv",
   "language": "python",
   "name": "python3"
  },
  "language_info": {
   "codemirror_mode": {
    "name": "ipython",
    "version": 3
   },
   "file_extension": ".py",
   "mimetype": "text/x-python",
   "name": "python",
   "nbconvert_exporter": "python",
   "pygments_lexer": "ipython3",
   "version": "3.10.12"
  }
 },
 "nbformat": 4,
 "nbformat_minor": 2
}
