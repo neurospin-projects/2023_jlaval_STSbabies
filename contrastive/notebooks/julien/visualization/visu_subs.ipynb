{
 "cells": [
  {
   "cell_type": "code",
   "execution_count": 19,
   "metadata": {},
   "outputs": [],
   "source": [
    "import anatomist.api as ana\n",
    "from soma.qt_gui.qtThread import QtThreadCall\n",
    "from soma.qt_gui.qt_backend import Qt\n",
    "from soma import aims\n",
    "import numpy as np\n",
    "import os"
   ]
  },
  {
   "cell_type": "code",
   "execution_count": 20,
   "metadata": {},
   "outputs": [],
   "source": [
    "a = ana.Anatomist()"
   ]
  },
  {
   "cell_type": "code",
   "execution_count": 21,
   "metadata": {},
   "outputs": [],
   "source": [
    "side = \"R\"\n",
    "region = 'CINGULATE.'"
   ]
  },
  {
   "cell_type": "code",
   "execution_count": 45,
   "metadata": {},
   "outputs": [],
   "source": [
    "dataset = 'UkBioBank'\n",
    "list_subjects = ['sub-1778253', 'sub-3343267', 'sub-3999349', 'sub-1024948', # cosine farthest\n",
    "       'sub-2387205', 'sub-1406912', 'sub-4201150', 'sub-1313297',\n",
    "       'sub-3429791', 'sub-4814576', 'sub-5542529', 'sub-2078993']\n",
    "list_subjects = ['sub-4830095',\n",
    " 'sub-3174845',\n",
    " 'sub-1313297',\n",
    " 'sub-1347557',\n",
    " 'sub-3552064',\n",
    " 'sub-3309423',\n",
    " 'sub-2078993',\n",
    " 'sub-3945959',\n",
    " 'sub-1024948',\n",
    " 'sub-3343267',\n",
    " 'sub-1566664',\n",
    " 'sub-3999349'] # cosine 1st neighbour\n",
    "#list_subjects = ['sub-2078993', 'sub-4378660', 'sub-2804664', 'sub-2149845',\n",
    "#       'sub-2154500', 'sub-1024948', 'sub-4520895', 'sub-5264927',\n",
    "#       'sub-4036145', 'sub-3742022', 'sub-2491351', 'sub-5542529'] # chebyshev\n",
    "list_subjects = ['sub-2711476',\n",
    " 'sub-3377257',\n",
    " 'sub-4556181',\n",
    " 'sub-3920439',\n",
    " 'sub-5751320',\n",
    " 'sub-3552064',\n",
    " 'sub-3172477',\n",
    " 'sub-1566664',\n",
    " 'sub-4830095',\n",
    " 'sub-3429791',\n",
    " 'sub-3174845',\n",
    " 'sub-3999349'] # cosine 5th neighbour"
   ]
  },
  {
   "cell_type": "code",
   "execution_count": 38,
   "metadata": {},
   "outputs": [],
   "source": [
    "dataset = 'CCD'\n",
    "#list_subjects = ['ca090293', 'cr070055', 'gd070065', 'lc110410', 'np090301', 'pa080037','pz080261'] # anomaly\n",
    "list_subjects = ['ag080048', 'bt080019', 'cd100556', 'fb070174', 'md110095', 'mm080047','vp100400'] # control"
   ]
  },
  {
   "cell_type": "markdown",
   "metadata": {},
   "source": [
    "# Visu graphs"
   ]
  },
  {
   "cell_type": "code",
   "execution_count": 26,
   "metadata": {},
   "outputs": [
    {
     "ename": "AttributeError",
     "evalue": "'NoneType' object has no attribute 'loadReferentialFromHeader'",
     "output_type": "error",
     "traceback": [
      "\u001b[0;31m---------------------------------------------------------------------------\u001b[0m",
      "\u001b[0;31mAttributeError\u001b[0m                            Traceback (most recent call last)",
      "\u001b[0;32m<ipython-input-26-f85b322eba0f>\u001b[0m in \u001b[0;36m<module>\u001b[0;34m\u001b[0m\n\u001b[1;32m      5\u001b[0m     \u001b[0mdic_windows\u001b[0m\u001b[0;34m[\u001b[0m\u001b[0;34mf'w{subject}'\u001b[0m\u001b[0;34m]\u001b[0m \u001b[0;34m=\u001b[0m \u001b[0ma\u001b[0m\u001b[0;34m.\u001b[0m\u001b[0mcreateWindow\u001b[0m\u001b[0;34m(\u001b[0m\u001b[0;34m\"3D\"\u001b[0m\u001b[0;34m,\u001b[0m \u001b[0mblock\u001b[0m\u001b[0;34m=\u001b[0m\u001b[0mblock\u001b[0m\u001b[0;34m)\u001b[0m\u001b[0;34m\u001b[0m\u001b[0;34m\u001b[0m\u001b[0m\n\u001b[1;32m      6\u001b[0m     \u001b[0mdic_windows\u001b[0m\u001b[0;34m[\u001b[0m\u001b[0;34mf'white_{subject}'\u001b[0m\u001b[0;34m]\u001b[0m \u001b[0;34m=\u001b[0m \u001b[0ma\u001b[0m\u001b[0;34m.\u001b[0m\u001b[0mloadObject\u001b[0m\u001b[0;34m(\u001b[0m\u001b[0;34mf'{path_to_t1mri}/default_analysis/segmentation/mesh/{subject}_{side}white.gii'\u001b[0m\u001b[0;34m)\u001b[0m\u001b[0;34m\u001b[0m\u001b[0;34m\u001b[0m\u001b[0m\n\u001b[0;32m----> 7\u001b[0;31m     \u001b[0mdic_windows\u001b[0m\u001b[0;34m[\u001b[0m\u001b[0;34mf'white_{subject}'\u001b[0m\u001b[0;34m]\u001b[0m\u001b[0;34m.\u001b[0m\u001b[0mloadReferentialFromHeader\u001b[0m\u001b[0;34m(\u001b[0m\u001b[0;34m)\u001b[0m\u001b[0;34m\u001b[0m\u001b[0;34m\u001b[0m\u001b[0m\n\u001b[0m\u001b[1;32m      8\u001b[0m     \u001b[0mdic_windows\u001b[0m\u001b[0;34m[\u001b[0m\u001b[0;34mf'sulci_{subject}'\u001b[0m\u001b[0;34m]\u001b[0m \u001b[0;34m=\u001b[0m \u001b[0ma\u001b[0m\u001b[0;34m.\u001b[0m\u001b[0mloadObject\u001b[0m\u001b[0;34m(\u001b[0m\u001b[0;34mf'{path_to_t1mri}/default_analysis/folds/3.1/{side}{subject}.arg'\u001b[0m\u001b[0;34m)\u001b[0m\u001b[0;34m\u001b[0m\u001b[0;34m\u001b[0m\u001b[0m\n\u001b[1;32m      9\u001b[0m     \u001b[0mdic_windows\u001b[0m\u001b[0;34m[\u001b[0m\u001b[0;34mf'sulci_{subject}'\u001b[0m\u001b[0;34m]\u001b[0m\u001b[0;34m.\u001b[0m\u001b[0mloadReferentialFromHeader\u001b[0m\u001b[0;34m(\u001b[0m\u001b[0;34m)\u001b[0m\u001b[0;34m\u001b[0m\u001b[0;34m\u001b[0m\u001b[0m\n",
      "\u001b[0;31mAttributeError\u001b[0m: 'NoneType' object has no attribute 'loadReferentialFromHeader'"
     ]
    }
   ],
   "source": [
    "block = a.createWindowsBlock(4) # 4 columns\n",
    "dic_windows = {}\n",
    "for subject in list_subjects:\n",
    "    path_to_t1mri = f'/volatile/jl277509/data/graphs_ukb/{subject}/ses-2/anat/t1mri/default_acquisition'\n",
    "    dic_windows[f'w{subject}'] = a.createWindow(\"3D\", block=block)\n",
    "    dic_windows[f'white_{subject}'] = a.loadObject(f'{path_to_t1mri}/default_analysis/segmentation/mesh/{subject}_{side}white.gii')\n",
    "    dic_windows[f'white_{subject}'].loadReferentialFromHeader()\n",
    "    dic_windows[f'sulci_{subject}'] = a.loadObject(f'{path_to_t1mri}/default_analysis/folds/3.1/{side}{subject}.arg')\n",
    "    dic_windows[f'sulci_{subject}'].loadReferentialFromHeader()\n",
    "    dic_windows[f'w{subject}'].addObjects([dic_windows[f'white_{subject}'], dic_windows[f'sulci_{subject}']])"
   ]
  },
  {
   "cell_type": "markdown",
   "metadata": {},
   "source": [
    "# Visu crop buckets"
   ]
  },
  {
   "cell_type": "code",
   "execution_count": 46,
   "metadata": {},
   "outputs": [
    {
     "data": {
      "text/plain": [
       "['/neurospin/dico/data/deep_folding/current/datasets/UkBioBank/crops/2mm/CINGULATE./mask/Rbuckets/sub-2711476_cropped_skeleton.bck',\n",
       " '/neurospin/dico/data/deep_folding/current/datasets/UkBioBank/crops/2mm/CINGULATE./mask/Rbuckets/sub-3377257_cropped_skeleton.bck',\n",
       " '/neurospin/dico/data/deep_folding/current/datasets/UkBioBank/crops/2mm/CINGULATE./mask/Rbuckets/sub-4556181_cropped_skeleton.bck',\n",
       " '/neurospin/dico/data/deep_folding/current/datasets/UkBioBank/crops/2mm/CINGULATE./mask/Rbuckets/sub-3920439_cropped_skeleton.bck',\n",
       " '/neurospin/dico/data/deep_folding/current/datasets/UkBioBank/crops/2mm/CINGULATE./mask/Rbuckets/sub-5751320_cropped_skeleton.bck',\n",
       " '/neurospin/dico/data/deep_folding/current/datasets/UkBioBank/crops/2mm/CINGULATE./mask/Rbuckets/sub-3552064_cropped_skeleton.bck',\n",
       " '/neurospin/dico/data/deep_folding/current/datasets/UkBioBank/crops/2mm/CINGULATE./mask/Rbuckets/sub-3172477_cropped_skeleton.bck',\n",
       " '/neurospin/dico/data/deep_folding/current/datasets/UkBioBank/crops/2mm/CINGULATE./mask/Rbuckets/sub-1566664_cropped_skeleton.bck',\n",
       " '/neurospin/dico/data/deep_folding/current/datasets/UkBioBank/crops/2mm/CINGULATE./mask/Rbuckets/sub-4830095_cropped_skeleton.bck',\n",
       " '/neurospin/dico/data/deep_folding/current/datasets/UkBioBank/crops/2mm/CINGULATE./mask/Rbuckets/sub-3429791_cropped_skeleton.bck',\n",
       " '/neurospin/dico/data/deep_folding/current/datasets/UkBioBank/crops/2mm/CINGULATE./mask/Rbuckets/sub-3174845_cropped_skeleton.bck',\n",
       " '/neurospin/dico/data/deep_folding/current/datasets/UkBioBank/crops/2mm/CINGULATE./mask/Rbuckets/sub-3999349_cropped_skeleton.bck']"
      ]
     },
     "execution_count": 46,
     "metadata": {},
     "output_type": "execute_result"
    }
   ],
   "source": [
    "bucket_files = []\n",
    "\n",
    "for subject_id in list_subjects:\n",
    "    if dataset.lower() in ['ukb', 'ukbiobank']:\n",
    "        dataset = 'UkBioBank'\n",
    "        path = f'/neurospin/dico/data/deep_folding/current/datasets/{dataset}/crops/2mm/{region}/mask/{side}buckets'\n",
    "\n",
    "    if dataset.lower() in ['hcp']:\n",
    "        path = f'/neurospin/dico/data/deep_folding/current/datasets/{dataset.lower()}/crops/2mm/{region}/mask/{side}buckets'\n",
    "\n",
    "    if dataset.lower() in ['ccd']:\n",
    "        path = f'/neurospin/dico/data/deep_folding/current/datasets/CCD/crops/2mm/{region}/mask/{side}buckets'\n",
    "\n",
    "    filename = f'{path}/{subject_id}_cropped_skeleton.bck'#.minf'\n",
    "\n",
    "    if os.path. isfile(filename):\n",
    "        bucket_files.append(filename)\n",
    "    else:\n",
    "        print(f\"{filename} is not a correct path, or the .bck doesn't exist\")\n",
    "bucket_files"
   ]
  },
  {
   "cell_type": "code",
   "execution_count": 47,
   "metadata": {},
   "outputs": [],
   "source": [
    "block = a.createWindowsBlock(4) # 4 columns\n",
    "d = {}\n",
    "\n",
    "for i, file in enumerate(bucket_files):\n",
    "    d[f'bck_{i}'] = a.loadObject(file)\n",
    "    d[f'w_{i}'] = a.createWindow('3D', block=block)#geometry=[100+400*(i%3), 100+440*(i//3), 400, 400])\n",
    "    d[f'w_{i}'].addObjects(d[f'bck_{i}'])"
   ]
  },
  {
   "cell_type": "code",
   "execution_count": null,
   "metadata": {},
   "outputs": [],
   "source": []
  }
 ],
 "metadata": {
  "kernelspec": {
   "display_name": "venv",
   "language": "python",
   "name": "python3"
  },
  "language_info": {
   "codemirror_mode": {
    "name": "ipython",
    "version": 3
   },
   "file_extension": ".py",
   "mimetype": "text/x-python",
   "name": "python",
   "nbconvert_exporter": "python",
   "pygments_lexer": "ipython3",
   "version": "3.10.12"
  }
 },
 "nbformat": 4,
 "nbformat_minor": 2
}
